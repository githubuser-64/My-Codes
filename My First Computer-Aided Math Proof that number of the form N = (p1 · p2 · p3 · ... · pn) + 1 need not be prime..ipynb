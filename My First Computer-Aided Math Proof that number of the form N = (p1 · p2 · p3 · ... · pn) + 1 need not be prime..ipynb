{
 "cells": [
  {
   "cell_type": "markdown",
   "id": "2b57632a",
   "metadata": {},
   "source": [
    "How would you show that not every number of the form N = (p1 · p2 · p3 · ... · pn) + 1 is prime,\n",
    "where p1, p2, p3, . . . , pn, . . . is the list of all prime numbers?"
   ]
  },
  {
   "cell_type": "code",
   "execution_count": 4,
   "id": "20a2fbd9",
   "metadata": {},
   "outputs": [],
   "source": [
    "import math"
   ]
  },
  {
   "cell_type": "code",
   "execution_count": 89,
   "id": "fba1af4c",
   "metadata": {},
   "outputs": [
    {
     "name": "stdout",
     "output_type": "stream",
     "text": [
      "Enter an odd number:509\n",
      "[2, 3, 5, 7, 11, 13, 17, 19, 23, 29, 31, 37, 41, 43, 47, 53, 59, 61, 67, 71, 73, 79, 83, 89, 97, 101, 103, 107, 109, 113, 127, 131, 137, 139, 149, 151, 157, 163, 167, 173, 179, 181, 191, 193, 197, 199, 211, 223, 227, 229, 233, 239, 241, 251, 257, 263, 269, 271, 277, 281, 283, 293, 307, 311, 313, 317, 331, 337, 347, 349, 353, 359, 367, 373, 379, 383, 389, 397, 401, 409, 419, 421, 431, 433, 439, 443, 449, 457, 461, 463, 467, 479, 487, 491, 499, 503, 509] are prime numbers.\n",
      "Done.\n"
     ]
    }
   ],
   "source": [
    "#program to print prime\n",
    "a=int(input('Enter an odd number:'))\n",
    "b=[2,3]\n",
    "i=5\n",
    "while i<=a:\n",
    "    j=3\n",
    "    while j<=int(math.sqrt(i)):\n",
    "        if i%j==0 and i<=a:\n",
    "            i+=2\n",
    "            j=3\n",
    "        else:\n",
    "            j+=2\n",
    "    if i<=a:\n",
    "        b.append(i)\n",
    "    i+=2\n",
    "print(b,\"are prime numbers.\")\n",
    "print('Done.')"
   ]
  },
  {
   "cell_type": "code",
   "execution_count": 50,
   "id": "56ba6f9e",
   "metadata": {},
   "outputs": [
    {
     "data": {
      "text/plain": [
       "[3, 7, 31, 211, 2311, 30031]"
      ]
     },
     "execution_count": 50,
     "metadata": {},
     "output_type": "execute_result"
    }
   ],
   "source": [
    "#Form a set of numbers which are products of the first primes + 1\n",
    "e=[]\n",
    "c=1\n",
    "for k in range(len(b)):\n",
    "    f=b[:k+1]\n",
    "    for d in f:\n",
    "        c=c*d\n",
    "    c=c+1\n",
    "    i=c\n",
    "    c=1\n",
    "    e.append(i)\n",
    "    j=3\n",
    "print(e)"
   ]
  },
  {
   "cell_type": "code",
   "execution_count": 71,
   "id": "7d2c0f0a",
   "metadata": {},
   "outputs": [
    {
     "name": "stdout",
     "output_type": "stream",
     "text": [
      "30031 not a prime.\n",
      "510511 not a prime.\n",
      "9699691 not a prime.\n",
      "6469693231 not a prime.\n",
      "7420738134811 not a prime.\n",
      "304250263527211 not a prime.\n",
      "Done.\n"
     ]
    }
   ],
   "source": [
    "#Check if prime\n",
    "j=3\n",
    "p=1\n",
    "for a in e:\n",
    "    while j<=int(math.sqrt(a)):\n",
    "        if a%j==0:\n",
    "            print(a,'not a prime.')\n",
    "            p=2\n",
    "            break\n",
    "        else:\n",
    "            j+=2\n",
    "\n",
    "if p==1:\n",
    "    print(a,\"is a prime number.\")\n",
    "print('Done.')"
   ]
  },
  {
   "cell_type": "code",
   "execution_count": 117,
   "id": "4ae215cf",
   "metadata": {},
   "outputs": [
    {
     "name": "stdout",
     "output_type": "stream",
     "text": [
      "Enter odd number:304250263527211\n",
      "304250263527211 not a prime.\n",
      "Done.\n"
     ]
    }
   ],
   "source": [
    "#Check if prime\n",
    "a=int(input(\"Enter odd number:\"))\n",
    "j=3;p=0\n",
    "\n",
    "while j<=int(math.sqrt(a)):\n",
    "    if a%j==0:\n",
    "        print(a,'not a prime.')\n",
    "        p=1\n",
    "        break\n",
    "    else:\n",
    "        j+=2\n",
    "if p==0: print(a,'is a prime.')\n",
    "print('Done.')"
   ]
  },
  {
   "cell_type": "code",
   "execution_count": 99,
   "id": "28679928",
   "metadata": {},
   "outputs": [
    {
     "name": "stdout",
     "output_type": "stream",
     "text": [
      "[17, 19]\n"
     ]
    }
   ],
   "source": [
    "#Factorisation\n",
    "i=323\n",
    "l=[]\n",
    "q=[2,3]\n",
    "if i==323:\n",
    "    j=3\n",
    "    while j<=int(math.sqrt(i)) and i>1:\n",
    "        if i%j==0:\n",
    "            l.append(j)\n",
    "            i=i/j\n",
    "            j=3\n",
    "        else:\n",
    "            j+=2\n",
    "    l.append(int(i))\n",
    "print(l)"
   ]
  },
  {
   "cell_type": "code",
   "execution_count": 113,
   "id": "0a221369",
   "metadata": {},
   "outputs": [
    {
     "name": "stdout",
     "output_type": "stream",
     "text": [
      "Enter an odd number for which you want the primes below that number and the non-prime number formed from those primes:41\n",
      "[2, 3, 5, 7, 11, 13, 17, 19, 23, 29, 31, 37, 41] are prime numbers.\n",
      "[3, 7, 31, 211, 2311, 30031, 510511, 9699691, 223092871, 6469693231, 200560490131, 7420738134811, 304250263527211] are the products.\n",
      "\n",
      "30031 not a prime.\n",
      "30031 is the 1th number that is 1 added to the product of first 6 prime numbers: [2, 3, 5, 7, 11, 13]\n",
      "30031's factors are: [59, 509]\n",
      "The product of the numbers in [59, 509] is: 30031 \n",
      "\n",
      "510511 not a prime.\n",
      "510511 is the 2th number that is 1 added to the product of first 7 prime numbers: [2, 3, 5, 7, 11, 13, 17]\n",
      "510511's factors are: [19, 97, 277]\n",
      "The product of the numbers in [19, 97, 277] is: 510511 \n",
      "\n",
      "9699691 not a prime.\n",
      "9699691 is the 3th number that is 1 added to the product of first 8 prime numbers: [2, 3, 5, 7, 11, 13, 17, 19]\n",
      "9699691's factors are: [347, 27953]\n",
      "The product of the numbers in [347, 27953] is: 9699691 \n",
      "\n",
      "223092871 not a prime.\n",
      "223092871 is the 4th number that is 1 added to the product of first 9 prime numbers: [2, 3, 5, 7, 11, 13, 17, 19, 23]\n",
      "223092871's factors are: [317, 703763]\n",
      "The product of the numbers in [317, 703763] is: 223092871 \n",
      "\n",
      "6469693231 not a prime.\n",
      "6469693231 is the 5th number that is 1 added to the product of first 10 prime numbers: [2, 3, 5, 7, 11, 13, 17, 19, 23, 29]\n",
      "6469693231's factors are: [331, 571, 34231]\n",
      "The product of the numbers in [331, 571, 34231] is: 6469693231 \n",
      "\n",
      "7420738134811 not a prime.\n",
      "7420738134811 is the 6th number that is 1 added to the product of first 12 prime numbers: [2, 3, 5, 7, 11, 13, 17, 19, 23, 29, 31, 37]\n",
      "7420738134811's factors are: [181, 60611, 676421]\n",
      "The product of the numbers in [181, 60611, 676421] is: 7420738134811 \n",
      "\n",
      "304250263527211 not a prime.\n",
      "304250263527211 is the 7th number that is 1 added to the product of first 13 prime numbers: [2, 3, 5, 7, 11, 13, 17, 19, 23, 29, 31, 37, 41]\n",
      "304250263527211's factors are: [61, 450451, 11072701]\n",
      "The product of the numbers in [61, 450451, 11072701] is: 304250263527211 \n",
      "\n",
      "The numbers of the desired type are: [30031, 510511, 9699691, 223092871, 6469693231, 7420738134811, 304250263527211]\n",
      "Done.\n"
     ]
    }
   ],
   "source": [
    "# program to find a non-prime number(np) that is 1 added to the product of first n primes and its factors.\n",
    "\n",
    "a=int(input('Enter an odd number for which you want the primes below that number and the non-prime number formed from those primes:'))\n",
    "\n",
    "#Take a number b.\n",
    "b=[2,3]\n",
    "i=5\n",
    "while i<=a:\n",
    "    j=3\n",
    "    while j<=int(math.sqrt(i)):\n",
    "        if i%j==0 and i<=a:\n",
    "            i+=2\n",
    "            j=3\n",
    "        else:\n",
    "            j+=2\n",
    "    if i<=a:\n",
    "        b.append(i)\n",
    "    i+=2\n",
    "print(b,\"are prime numbers.\")\n",
    "\n",
    "\n",
    "#Form a set of numbers which are products of the first primes + 1\n",
    "e=[]\n",
    "c=1\n",
    "for k in range(len(b)):\n",
    "    f=b[:k+1]\n",
    "    for d in f:\n",
    "        c=c*d\n",
    "    c=c+1\n",
    "    i=c\n",
    "    c=1\n",
    "    e.append(i)\n",
    "    j=3\n",
    "print(e,'are the products.\\n')\n",
    "\n",
    "g=0\n",
    "h=[]\n",
    "j=3\n",
    "#Select the numbers from the above set\n",
    "for a in e:\n",
    "    #Check if the number a is a prime\n",
    "    while j<=int(math.sqrt(a)):\n",
    "        if a%j==0:\n",
    "            print(a,'not a prime.')\n",
    "            n=0\n",
    "            while n<=len(e)+1:\n",
    "                if e[n]!=a:\n",
    "                    n+=1\n",
    "                else:\n",
    "                    g=g+1\n",
    "                    h.append(a)\n",
    "                    print(a,\"is the\",str(g)+\"th number that is 1 added to the product of first\",n+1,\"prime numbers:\",b[:n+1])\n",
    "                    o=a\n",
    "                    #Factorisation of the number\n",
    "                    l=[]\n",
    "                    q=[2,3]\n",
    "                    j=3\n",
    "                    while j<=int(math.sqrt(a)) and a>1:\n",
    "                        if a%j==0:\n",
    "                            l.append(j)\n",
    "                            a=a/j\n",
    "                            j=3\n",
    "                        else:\n",
    "                            j+=2\n",
    "                    l.append(int(a))\n",
    "                    print(str(o)+\"'s factors are:\",l)\n",
    "                    w=1\n",
    "                    for v in l:\n",
    "                        w=w*v\n",
    "                    print(\"The product of the numbers in\",l,\"is:\",w,\"\\n\")\n",
    "                    n+=len(e)+2\n",
    "            p=2\n",
    "            break\n",
    "        else:\n",
    "            j+=2\n",
    "print(\"The numbers of the desired type are:\",h)\n",
    "print('Done.')"
   ]
  },
  {
   "cell_type": "code",
   "execution_count": 102,
   "id": "5e23fea0",
   "metadata": {},
   "outputs": [
    {
     "name": "stdout",
     "output_type": "stream",
     "text": [
      "2\n"
     ]
    }
   ],
   "source": [
    "v=2\n",
    "for v in [v]:\n",
    "    print(2)"
   ]
  },
  {
   "cell_type": "code",
   "execution_count": null,
   "id": "d4e1500b",
   "metadata": {},
   "outputs": [],
   "source": []
  },
  {
   "cell_type": "code",
   "execution_count": null,
   "id": "49ffcdfb",
   "metadata": {},
   "outputs": [],
   "source": []
  },
  {
   "cell_type": "code",
   "execution_count": null,
   "id": "972a05d8",
   "metadata": {},
   "outputs": [],
   "source": []
  },
  {
   "cell_type": "code",
   "execution_count": null,
   "id": "148a2872",
   "metadata": {},
   "outputs": [],
   "source": []
  },
  {
   "cell_type": "code",
   "execution_count": null,
   "id": "620a8f5c",
   "metadata": {},
   "outputs": [],
   "source": []
  },
  {
   "cell_type": "code",
   "execution_count": null,
   "id": "8596271c",
   "metadata": {},
   "outputs": [],
   "source": []
  },
  {
   "cell_type": "code",
   "execution_count": null,
   "id": "ecbded9a",
   "metadata": {},
   "outputs": [],
   "source": []
  },
  {
   "cell_type": "code",
   "execution_count": null,
   "id": "9f02592c",
   "metadata": {},
   "outputs": [],
   "source": []
  },
  {
   "cell_type": "code",
   "execution_count": null,
   "id": "086660a6",
   "metadata": {},
   "outputs": [],
   "source": []
  },
  {
   "cell_type": "code",
   "execution_count": null,
   "id": "f1331e15",
   "metadata": {},
   "outputs": [],
   "source": []
  },
  {
   "cell_type": "code",
   "execution_count": null,
   "id": "1de3e87d",
   "metadata": {},
   "outputs": [],
   "source": []
  },
  {
   "cell_type": "code",
   "execution_count": null,
   "id": "cdd454ac",
   "metadata": {},
   "outputs": [],
   "source": []
  },
  {
   "cell_type": "code",
   "execution_count": null,
   "id": "029fd38c",
   "metadata": {},
   "outputs": [],
   "source": []
  },
  {
   "cell_type": "code",
   "execution_count": null,
   "id": "76d99909",
   "metadata": {},
   "outputs": [],
   "source": []
  }
 ],
 "metadata": {
  "kernelspec": {
   "display_name": "Python 3",
   "language": "python",
   "name": "python3"
  },
  "language_info": {
   "codemirror_mode": {
    "name": "ipython",
    "version": 3
   },
   "file_extension": ".py",
   "mimetype": "text/x-python",
   "name": "python",
   "nbconvert_exporter": "python",
   "pygments_lexer": "ipython3",
   "version": "3.6.13"
  }
 },
 "nbformat": 4,
 "nbformat_minor": 5
}
