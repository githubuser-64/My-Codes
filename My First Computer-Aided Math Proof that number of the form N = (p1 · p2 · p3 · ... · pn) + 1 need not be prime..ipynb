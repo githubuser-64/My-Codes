{
 "cells": [
  {
   "cell_type": "markdown",
   "id": "2b57632a",
   "metadata": {},
   "source": [
    "How would you show that not every number of the form N = (p1 · p2 · p3 · ... · pn) + 1 is prime,\n",
    "where p1, p2, p3, . . . , pn, . . . is the list of all prime numbers?"
   ]
  },
  {
   "cell_type": "markdown",
   "id": "353b95f7",
   "metadata": {},
   "source": [
    "### Proof Strategy\n",
    "\n",
    "We need to prove that N = (p1 * p2 * ... * pn) + 1, where p1, p2, ..., pn are the first n prime numbers, is not necessarily a prime number.  \n",
    "\n",
    "Therefore, one way to prove it is to find an 'N' which is not a prime."
   ]
  },
  {
   "cell_type": "markdown",
   "id": "60b229a3",
   "metadata": {},
   "source": [
    "#### Program to find the first non-prime number(np) that is 1 added to the product of first n primes.\n"
   ]
  },
  {
   "cell_type": "code",
   "execution_count": 6,
   "id": "a3555ab3",
   "metadata": {},
   "outputs": [
    {
     "name": "stdout",
     "output_type": "stream",
     "text": [
      "[2, 3, 5, 7, 11, 13] are prime numbers.\n",
      "[3, 7, 31, 211, 2311, 30031] are the products.\n",
      "\n",
      "509 not a prime.\n",
      "509 is the 1st number that is 1 added to the product of first 14 prime numbers: [2, 3, 5, 7, 11, 13]\n",
      "30031's factors are: [59, 509]\n",
      "The product of the numbers in [59, 509] is: 30031 \n",
      "\n",
      "The numbers of the desired type are: 30031\n",
      "Done.\n"
     ]
    }
   ],
   "source": [
    "h=[] # The array that collects the numbers we want to find\n",
    "\n",
    "y=7\n",
    "\n",
    "number_of_numbers=1 # So, as soon as we find a number, the loop stops and gives us the number. We can adjust this to find first n numbers of the above type\n",
    "\n",
    "while len(h)<number_of_numbers:\n",
    "    a=y\n",
    "    y+=2\n",
    "    #Take a number b.\n",
    "    b=[2,3]\n",
    "    i=5\n",
    "    while i<=a:\n",
    "        j=3\n",
    "        while j<=int(i**0.5):\n",
    "            if i%j==0 and i<=a:\n",
    "                i+=2\n",
    "                j=3\n",
    "            else:\n",
    "                j+=2\n",
    "        if i<=a:\n",
    "            b.append(i)\n",
    "        i+=2\n",
    "\n",
    "    #Form a set of numbers which are products of the first primes + 1\n",
    "    e=[]\n",
    "    c=1\n",
    "    for k in range(len(b)):\n",
    "        f=b[:k+1]\n",
    "        for d in f:\n",
    "            c=c*d\n",
    "        c=c+1\n",
    "        i=c\n",
    "        c=1\n",
    "        e.append(i)\n",
    "        j=3\n",
    "    \n",
    "    g=0\n",
    "    j=3\n",
    "    #Select the numbers from the above set\n",
    "    for a in e:\n",
    "        #Check if the number a is a prime\n",
    "        while j<=int(a**0.5):\n",
    "            if a%j==0:\n",
    "                # print(b,\"are prime numbers.\")\n",
    "                # print(e,'are the products.\\n')\n",
    "                # print(a,'not a prime.')\n",
    "                n=0\n",
    "                while n<=len(e)+1:\n",
    "                    if e[n]!=a:\n",
    "                        n+=1\n",
    "                    else:\n",
    "                        g=g+1\n",
    "                        if len(h)< number_of_numbers:\n",
    "                            h.append(a)\n",
    "\n",
    "                        else:\n",
    "                            break\n",
    "                        # print(a,\"is the\",str(g)+\"st number that is 1 added to the product of first\",n+1,\"prime numbers:\",b[:n+1])\n",
    "                        o=a\n",
    "                        #Factorisation of the number\n",
    "                        l=[]\n",
    "                        q=[2,3]\n",
    "                        j=3\n",
    "                        while j<=int(a**0.5) and a>1:\n",
    "                            if a%j==0:\n",
    "                                l.append(j)\n",
    "                                a=a/j\n",
    "                                j=3\n",
    "                            else:\n",
    "                                j+=2\n",
    "                        l.append(int(a))\n",
    "                        # print(str(o)+\"'s factors are:\",l)\n",
    "                        w=1\n",
    "                        for v in l:\n",
    "                            w=w*v\n",
    "                        # print(\"The product of the numbers in\",l,\"is:\",w,\"\\n\")\n",
    "                        n+=len(e)+2\n",
    "                p=2\n",
    "                break\n",
    "            else:\n",
    "                j+=2\n",
    "print(b,\"are prime numbers.\")\n",
    "print(e,'are the products.\\n')\n",
    "print(int(a),'not a prime.')\n",
    "print(int(a),\"is the\",str(g)+\"st number that is 1 added to the product of first\",n+1,\"prime numbers:\",b[:n+1])\n",
    "print(str(o)+\"'s factors are:\",l)\n",
    "print(\"The product of the numbers in\",l,\"is:\",w,\"\\n\")\n",
    "print(\"The numbers of the desired type are:\",h[0])\n",
    "print('Done.')"
   ]
  }
 ],
 "metadata": {
  "kernelspec": {
   "display_name": "Python 3",
   "language": "python",
   "name": "python3"
  },
  "language_info": {
   "codemirror_mode": {
    "name": "ipython",
    "version": 3
   },
   "file_extension": ".py",
   "mimetype": "text/x-python",
   "name": "python",
   "nbconvert_exporter": "python",
   "pygments_lexer": "ipython3",
   "version": "3.10.12"
  }
 },
 "nbformat": 4,
 "nbformat_minor": 5
}
