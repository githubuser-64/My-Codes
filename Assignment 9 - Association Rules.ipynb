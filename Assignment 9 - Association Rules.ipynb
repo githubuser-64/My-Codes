{
 "cells": [
  {
   "cell_type": "code",
   "execution_count": 2,
   "id": "d5113079",
   "metadata": {
    "scrolled": true
   },
   "outputs": [],
   "source": [
    "#pip install apyori"
   ]
  },
  {
   "cell_type": "code",
   "execution_count": 1,
   "id": "91a55225",
   "metadata": {},
   "outputs": [],
   "source": [
    "import pandas as pd\n",
    "import numpy as np\n",
    "import matplotlib.pyplot as plt"
   ]
  },
  {
   "cell_type": "markdown",
   "id": "ba1ca9c6",
   "metadata": {},
   "source": [
    "# Dataset: book"
   ]
  },
  {
   "cell_type": "code",
   "execution_count": 2,
   "id": "e3ed17b8",
   "metadata": {},
   "outputs": [],
   "source": [
    "df=pd.read_csv(\"C:\\\\Users\\\\shred\\\\Desktop\\\\Data Science\\\\Assignments\\\\Assignment 9 - Association Rules\\\\book.csv\")"
   ]
  },
  {
   "cell_type": "code",
   "execution_count": 3,
   "id": "91f4bb88",
   "metadata": {
    "scrolled": true
   },
   "outputs": [
    {
     "data": {
      "text/html": [
       "<div>\n",
       "<style scoped>\n",
       "    .dataframe tbody tr th:only-of-type {\n",
       "        vertical-align: middle;\n",
       "    }\n",
       "\n",
       "    .dataframe tbody tr th {\n",
       "        vertical-align: top;\n",
       "    }\n",
       "\n",
       "    .dataframe thead th {\n",
       "        text-align: right;\n",
       "    }\n",
       "</style>\n",
       "<table border=\"1\" class=\"dataframe\">\n",
       "  <thead>\n",
       "    <tr style=\"text-align: right;\">\n",
       "      <th></th>\n",
       "      <th>ChildBks</th>\n",
       "      <th>YouthBks</th>\n",
       "      <th>CookBks</th>\n",
       "      <th>DoItYBks</th>\n",
       "      <th>RefBks</th>\n",
       "      <th>ArtBks</th>\n",
       "      <th>GeogBks</th>\n",
       "      <th>ItalCook</th>\n",
       "      <th>ItalAtlas</th>\n",
       "      <th>ItalArt</th>\n",
       "      <th>Florence</th>\n",
       "    </tr>\n",
       "  </thead>\n",
       "  <tbody>\n",
       "    <tr>\n",
       "      <th>0</th>\n",
       "      <td>0</td>\n",
       "      <td>1</td>\n",
       "      <td>0</td>\n",
       "      <td>1</td>\n",
       "      <td>0</td>\n",
       "      <td>0</td>\n",
       "      <td>1</td>\n",
       "      <td>0</td>\n",
       "      <td>0</td>\n",
       "      <td>0</td>\n",
       "      <td>0</td>\n",
       "    </tr>\n",
       "    <tr>\n",
       "      <th>1</th>\n",
       "      <td>1</td>\n",
       "      <td>0</td>\n",
       "      <td>0</td>\n",
       "      <td>0</td>\n",
       "      <td>0</td>\n",
       "      <td>0</td>\n",
       "      <td>0</td>\n",
       "      <td>0</td>\n",
       "      <td>0</td>\n",
       "      <td>0</td>\n",
       "      <td>0</td>\n",
       "    </tr>\n",
       "    <tr>\n",
       "      <th>2</th>\n",
       "      <td>0</td>\n",
       "      <td>0</td>\n",
       "      <td>0</td>\n",
       "      <td>0</td>\n",
       "      <td>0</td>\n",
       "      <td>0</td>\n",
       "      <td>0</td>\n",
       "      <td>0</td>\n",
       "      <td>0</td>\n",
       "      <td>0</td>\n",
       "      <td>0</td>\n",
       "    </tr>\n",
       "    <tr>\n",
       "      <th>3</th>\n",
       "      <td>1</td>\n",
       "      <td>1</td>\n",
       "      <td>1</td>\n",
       "      <td>0</td>\n",
       "      <td>1</td>\n",
       "      <td>0</td>\n",
       "      <td>1</td>\n",
       "      <td>0</td>\n",
       "      <td>0</td>\n",
       "      <td>0</td>\n",
       "      <td>0</td>\n",
       "    </tr>\n",
       "    <tr>\n",
       "      <th>4</th>\n",
       "      <td>0</td>\n",
       "      <td>0</td>\n",
       "      <td>1</td>\n",
       "      <td>0</td>\n",
       "      <td>0</td>\n",
       "      <td>0</td>\n",
       "      <td>1</td>\n",
       "      <td>0</td>\n",
       "      <td>0</td>\n",
       "      <td>0</td>\n",
       "      <td>0</td>\n",
       "    </tr>\n",
       "  </tbody>\n",
       "</table>\n",
       "</div>"
      ],
      "text/plain": [
       "   ChildBks  YouthBks  CookBks  DoItYBks  RefBks  ArtBks  GeogBks  ItalCook  \\\n",
       "0         0         1        0         1       0       0        1         0   \n",
       "1         1         0        0         0       0       0        0         0   \n",
       "2         0         0        0         0       0       0        0         0   \n",
       "3         1         1        1         0       1       0        1         0   \n",
       "4         0         0        1         0       0       0        1         0   \n",
       "\n",
       "   ItalAtlas  ItalArt  Florence  \n",
       "0          0        0         0  \n",
       "1          0        0         0  \n",
       "2          0        0         0  \n",
       "3          0        0         0  \n",
       "4          0        0         0  "
      ]
     },
     "execution_count": 3,
     "metadata": {},
     "output_type": "execute_result"
    }
   ],
   "source": [
    "df.head()"
   ]
  },
  {
   "cell_type": "code",
   "execution_count": 4,
   "id": "edfd9ced",
   "metadata": {
    "scrolled": false
   },
   "outputs": [
    {
     "name": "stderr",
     "output_type": "stream",
     "text": [
      "C:\\Users\\shred\\AppData\\Local\\Temp/ipykernel_2656/3596698147.py:3: SettingWithCopyWarning: \n",
      "A value is trying to be set on a copy of a slice from a DataFrame\n",
      "\n",
      "See the caveats in the documentation: https://pandas.pydata.org/pandas-docs/stable/user_guide/indexing.html#returning-a-view-versus-a-copy\n",
      "  df[i][df[i]==1]=i\n"
     ]
    },
    {
     "data": {
      "text/html": [
       "<div>\n",
       "<style scoped>\n",
       "    .dataframe tbody tr th:only-of-type {\n",
       "        vertical-align: middle;\n",
       "    }\n",
       "\n",
       "    .dataframe tbody tr th {\n",
       "        vertical-align: top;\n",
       "    }\n",
       "\n",
       "    .dataframe thead th {\n",
       "        text-align: right;\n",
       "    }\n",
       "</style>\n",
       "<table border=\"1\" class=\"dataframe\">\n",
       "  <thead>\n",
       "    <tr style=\"text-align: right;\">\n",
       "      <th></th>\n",
       "      <th>Items</th>\n",
       "    </tr>\n",
       "  </thead>\n",
       "  <tbody>\n",
       "    <tr>\n",
       "      <th>0</th>\n",
       "      <td>YouthBks,DoItYBks,GeogBks</td>\n",
       "    </tr>\n",
       "    <tr>\n",
       "      <th>1</th>\n",
       "      <td>ChildBks</td>\n",
       "    </tr>\n",
       "    <tr>\n",
       "      <th>2</th>\n",
       "      <td>NaN</td>\n",
       "    </tr>\n",
       "    <tr>\n",
       "      <th>3</th>\n",
       "      <td>ChildBks,YouthBks,CookBks,RefBks,GeogBks</td>\n",
       "    </tr>\n",
       "    <tr>\n",
       "      <th>4</th>\n",
       "      <td>CookBks,GeogBks</td>\n",
       "    </tr>\n",
       "  </tbody>\n",
       "</table>\n",
       "</div>"
      ],
      "text/plain": [
       "                                      Items\n",
       "0                 YouthBks,DoItYBks,GeogBks\n",
       "1                                  ChildBks\n",
       "2                                       NaN\n",
       "3  ChildBks,YouthBks,CookBks,RefBks,GeogBks\n",
       "4                           CookBks,GeogBks"
      ]
     },
     "execution_count": 4,
     "metadata": {},
     "output_type": "execute_result"
    }
   ],
   "source": [
    "df=pd.read_csv(\"C:\\\\Users\\\\shred\\\\Desktop\\\\Data Science\\\\Assignments\\\\Assignment 9 - Association Rules\\\\book.csv\")\n",
    "for i in df.columns:\n",
    "    df[i][df[i]==1]=i\n",
    "df1=pd.DataFrame([],columns=['Items'])\n",
    "for i in range(df.shape[0]):\n",
    "    a=['','']\n",
    "    for j in range(df.shape[1]):\n",
    "        if df.iloc[i,j] != 0:\n",
    "            a[0]=df.iloc[i,j]\n",
    "            if a[1]!='':\n",
    "                a[1]=a[1]+','+a[0]\n",
    "            else:\n",
    "                a[1]=a[0]\n",
    "        if a[1]!='':\n",
    "            df1.loc[i]=a[1]\n",
    "        else:\n",
    "            df1.loc[i]='NaN'\n",
    "a=[]\n",
    "for i in df1['Items']:\n",
    "    a.append(i)\n",
    "df1=pd.DataFrame(pd.Series(a),columns=['Items'])\n",
    "df1.head()"
   ]
  },
  {
   "cell_type": "code",
   "execution_count": 5,
   "id": "b8e9161b",
   "metadata": {
    "scrolled": true
   },
   "outputs": [
    {
     "data": {
      "text/html": [
       "<div>\n",
       "<style scoped>\n",
       "    .dataframe tbody tr th:only-of-type {\n",
       "        vertical-align: middle;\n",
       "    }\n",
       "\n",
       "    .dataframe tbody tr th {\n",
       "        vertical-align: top;\n",
       "    }\n",
       "\n",
       "    .dataframe thead th {\n",
       "        text-align: right;\n",
       "    }\n",
       "</style>\n",
       "<table border=\"1\" class=\"dataframe\">\n",
       "  <thead>\n",
       "    <tr style=\"text-align: right;\">\n",
       "      <th></th>\n",
       "      <th>0</th>\n",
       "      <th>1</th>\n",
       "      <th>2</th>\n",
       "      <th>3</th>\n",
       "      <th>4</th>\n",
       "      <th>5</th>\n",
       "      <th>6</th>\n",
       "      <th>7</th>\n",
       "      <th>8</th>\n",
       "      <th>9</th>\n",
       "      <th>10</th>\n",
       "    </tr>\n",
       "  </thead>\n",
       "  <tbody>\n",
       "    <tr>\n",
       "      <th>0</th>\n",
       "      <td>YouthBks</td>\n",
       "      <td>DoItYBks</td>\n",
       "      <td>GeogBks</td>\n",
       "      <td>None</td>\n",
       "      <td>None</td>\n",
       "      <td>None</td>\n",
       "      <td>None</td>\n",
       "      <td>None</td>\n",
       "      <td>None</td>\n",
       "      <td>None</td>\n",
       "      <td>None</td>\n",
       "    </tr>\n",
       "    <tr>\n",
       "      <th>1</th>\n",
       "      <td>ChildBks</td>\n",
       "      <td>None</td>\n",
       "      <td>None</td>\n",
       "      <td>None</td>\n",
       "      <td>None</td>\n",
       "      <td>None</td>\n",
       "      <td>None</td>\n",
       "      <td>None</td>\n",
       "      <td>None</td>\n",
       "      <td>None</td>\n",
       "      <td>None</td>\n",
       "    </tr>\n",
       "    <tr>\n",
       "      <th>2</th>\n",
       "      <td>NaN</td>\n",
       "      <td>None</td>\n",
       "      <td>None</td>\n",
       "      <td>None</td>\n",
       "      <td>None</td>\n",
       "      <td>None</td>\n",
       "      <td>None</td>\n",
       "      <td>None</td>\n",
       "      <td>None</td>\n",
       "      <td>None</td>\n",
       "      <td>None</td>\n",
       "    </tr>\n",
       "    <tr>\n",
       "      <th>3</th>\n",
       "      <td>ChildBks</td>\n",
       "      <td>YouthBks</td>\n",
       "      <td>CookBks</td>\n",
       "      <td>RefBks</td>\n",
       "      <td>GeogBks</td>\n",
       "      <td>None</td>\n",
       "      <td>None</td>\n",
       "      <td>None</td>\n",
       "      <td>None</td>\n",
       "      <td>None</td>\n",
       "      <td>None</td>\n",
       "    </tr>\n",
       "    <tr>\n",
       "      <th>4</th>\n",
       "      <td>CookBks</td>\n",
       "      <td>GeogBks</td>\n",
       "      <td>None</td>\n",
       "      <td>None</td>\n",
       "      <td>None</td>\n",
       "      <td>None</td>\n",
       "      <td>None</td>\n",
       "      <td>None</td>\n",
       "      <td>None</td>\n",
       "      <td>None</td>\n",
       "      <td>None</td>\n",
       "    </tr>\n",
       "  </tbody>\n",
       "</table>\n",
       "</div>"
      ],
      "text/plain": [
       "         0         1        2       3        4     5     6     7     8     9   \\\n",
       "0  YouthBks  DoItYBks  GeogBks    None     None  None  None  None  None  None   \n",
       "1  ChildBks      None     None    None     None  None  None  None  None  None   \n",
       "2       NaN      None     None    None     None  None  None  None  None  None   \n",
       "3  ChildBks  YouthBks  CookBks  RefBks  GeogBks  None  None  None  None  None   \n",
       "4   CookBks   GeogBks     None    None     None  None  None  None  None  None   \n",
       "\n",
       "     10  \n",
       "0  None  \n",
       "1  None  \n",
       "2  None  \n",
       "3  None  \n",
       "4  None  "
      ]
     },
     "execution_count": 5,
     "metadata": {},
     "output_type": "execute_result"
    }
   ],
   "source": [
    "DF = df1['Items'].str.split(',',expand = True)\n",
    "DF.head()"
   ]
  },
  {
   "cell_type": "code",
   "execution_count": 6,
   "id": "21995244",
   "metadata": {},
   "outputs": [
    {
     "data": {
      "text/html": [
       "<div>\n",
       "<style scoped>\n",
       "    .dataframe tbody tr th:only-of-type {\n",
       "        vertical-align: middle;\n",
       "    }\n",
       "\n",
       "    .dataframe tbody tr th {\n",
       "        vertical-align: top;\n",
       "    }\n",
       "\n",
       "    .dataframe thead th {\n",
       "        text-align: right;\n",
       "    }\n",
       "</style>\n",
       "<table border=\"1\" class=\"dataframe\">\n",
       "  <thead>\n",
       "    <tr style=\"text-align: right;\">\n",
       "      <th></th>\n",
       "      <th>0</th>\n",
       "      <th>1</th>\n",
       "      <th>2</th>\n",
       "      <th>3</th>\n",
       "      <th>4</th>\n",
       "      <th>5</th>\n",
       "      <th>6</th>\n",
       "      <th>7</th>\n",
       "      <th>8</th>\n",
       "      <th>9</th>\n",
       "      <th>10</th>\n",
       "    </tr>\n",
       "  </thead>\n",
       "  <tbody>\n",
       "    <tr>\n",
       "      <th>0</th>\n",
       "      <td>YouthBks</td>\n",
       "      <td>DoItYBks</td>\n",
       "      <td>GeogBks</td>\n",
       "      <td>NaN</td>\n",
       "      <td>NaN</td>\n",
       "      <td>NaN</td>\n",
       "      <td>NaN</td>\n",
       "      <td>NaN</td>\n",
       "      <td>NaN</td>\n",
       "      <td>NaN</td>\n",
       "      <td>NaN</td>\n",
       "    </tr>\n",
       "    <tr>\n",
       "      <th>1</th>\n",
       "      <td>ChildBks</td>\n",
       "      <td>NaN</td>\n",
       "      <td>NaN</td>\n",
       "      <td>NaN</td>\n",
       "      <td>NaN</td>\n",
       "      <td>NaN</td>\n",
       "      <td>NaN</td>\n",
       "      <td>NaN</td>\n",
       "      <td>NaN</td>\n",
       "      <td>NaN</td>\n",
       "      <td>NaN</td>\n",
       "    </tr>\n",
       "    <tr>\n",
       "      <th>2</th>\n",
       "      <td>NaN</td>\n",
       "      <td>NaN</td>\n",
       "      <td>NaN</td>\n",
       "      <td>NaN</td>\n",
       "      <td>NaN</td>\n",
       "      <td>NaN</td>\n",
       "      <td>NaN</td>\n",
       "      <td>NaN</td>\n",
       "      <td>NaN</td>\n",
       "      <td>NaN</td>\n",
       "      <td>NaN</td>\n",
       "    </tr>\n",
       "    <tr>\n",
       "      <th>3</th>\n",
       "      <td>ChildBks</td>\n",
       "      <td>YouthBks</td>\n",
       "      <td>CookBks</td>\n",
       "      <td>RefBks</td>\n",
       "      <td>GeogBks</td>\n",
       "      <td>NaN</td>\n",
       "      <td>NaN</td>\n",
       "      <td>NaN</td>\n",
       "      <td>NaN</td>\n",
       "      <td>NaN</td>\n",
       "      <td>NaN</td>\n",
       "    </tr>\n",
       "    <tr>\n",
       "      <th>4</th>\n",
       "      <td>CookBks</td>\n",
       "      <td>GeogBks</td>\n",
       "      <td>NaN</td>\n",
       "      <td>NaN</td>\n",
       "      <td>NaN</td>\n",
       "      <td>NaN</td>\n",
       "      <td>NaN</td>\n",
       "      <td>NaN</td>\n",
       "      <td>NaN</td>\n",
       "      <td>NaN</td>\n",
       "      <td>NaN</td>\n",
       "    </tr>\n",
       "  </tbody>\n",
       "</table>\n",
       "</div>"
      ],
      "text/plain": [
       "         0         1        2       3        4    5    6    7    8    9    10\n",
       "0  YouthBks  DoItYBks  GeogBks     NaN      NaN  NaN  NaN  NaN  NaN  NaN  NaN\n",
       "1  ChildBks       NaN      NaN     NaN      NaN  NaN  NaN  NaN  NaN  NaN  NaN\n",
       "2       NaN       NaN      NaN     NaN      NaN  NaN  NaN  NaN  NaN  NaN  NaN\n",
       "3  ChildBks  YouthBks  CookBks  RefBks  GeogBks  NaN  NaN  NaN  NaN  NaN  NaN\n",
       "4   CookBks   GeogBks      NaN     NaN      NaN  NaN  NaN  NaN  NaN  NaN  NaN"
      ]
     },
     "execution_count": 6,
     "metadata": {},
     "output_type": "execute_result"
    }
   ],
   "source": [
    "for i in range(11):\n",
    "    for j in range(2000):\n",
    "        if DF.loc[j,i]==None:\n",
    "            DF.iloc[j,i]='NaN'\n",
    "DF.head()"
   ]
  },
  {
   "cell_type": "markdown",
   "id": "e1d04dc6",
   "metadata": {},
   "source": [
    "#### apriori algorithm from apyori library"
   ]
  },
  {
   "cell_type": "code",
   "execution_count": 7,
   "id": "6a201567",
   "metadata": {},
   "outputs": [],
   "source": [
    "from apyori import apriori"
   ]
  },
  {
   "cell_type": "markdown",
   "id": "7b9bdb11",
   "metadata": {},
   "source": [
    "###### min_length = 41, max_length = 3, min_support = 0.2, min_confidence = 0.2, min_lift = 1.1"
   ]
  },
  {
   "cell_type": "code",
   "execution_count": 8,
   "id": "477ea3b9",
   "metadata": {
    "scrolled": false
   },
   "outputs": [
    {
     "data": {
      "text/plain": [
       "[RelationRecord(items=frozenset({'CookBks', 'ChildBks'}), support=0.256, ordered_statistics=[OrderedStatistic(items_base=frozenset({'ChildBks'}), items_add=frozenset({'CookBks'}), confidence=0.6052009456264775, lift=1.4041785281356787), OrderedStatistic(items_base=frozenset({'CookBks'}), items_add=frozenset({'ChildBks'}), confidence=0.5939675174013921, lift=1.4041785281356787)]),\n",
       " RelationRecord(items=frozenset({'NaN', 'CookBks', 'ChildBks'}), support=0.255, ordered_statistics=[OrderedStatistic(items_base=frozenset({'ChildBks'}), items_add=frozenset({'NaN', 'CookBks'}), confidence=0.6028368794326241, lift=1.4019462312386608), OrderedStatistic(items_base=frozenset({'CookBks'}), items_add=frozenset({'NaN', 'ChildBks'}), confidence=0.5916473317865429, lift=1.402007895228775), OrderedStatistic(items_base=frozenset({'NaN', 'ChildBks'}), items_add=frozenset({'CookBks'}), confidence=0.604265402843602, lift=1.402007895228775), OrderedStatistic(items_base=frozenset({'NaN', 'CookBks'}), items_add=frozenset({'ChildBks'}), confidence=0.5930232558139535, lift=1.4019462312386608)])]"
      ]
     },
     "execution_count": 8,
     "metadata": {},
     "output_type": "execute_result"
    }
   ],
   "source": [
    "observations = []\n",
    "for i in range(DF.shape[0]):\n",
    "    observations.append([str(DF.values[i,j]) for j in range(DF.shape[1])])\n",
    "observations\n",
    "frequent_itemsets = list(apriori(observations, min_length = 41, max_length = 3, min_support = 0.2, min_confidence = 0.2, min_lift = 1.1))\n",
    "frequent_itemsets"
   ]
  },
  {
   "cell_type": "markdown",
   "id": "c654bf34",
   "metadata": {},
   "source": [
    "###### min_length = 41, max_length = 3, min_support = 0.15, min_confidence = 0.5, min_lift = 1.66"
   ]
  },
  {
   "cell_type": "code",
   "execution_count": 9,
   "id": "455c3b7a",
   "metadata": {
    "scrolled": false
   },
   "outputs": [
    {
     "data": {
      "text/plain": [
       "[RelationRecord(items=frozenset({'GeogBks', 'ChildBks'}), support=0.195, ordered_statistics=[OrderedStatistic(items_base=frozenset({'GeogBks'}), items_add=frozenset({'ChildBks'}), confidence=0.7065217391304347, lift=1.6702641587007914)]),\n",
       " RelationRecord(items=frozenset({'ChildBks', 'RefBks'}), support=0.1515, ordered_statistics=[OrderedStatistic(items_base=frozenset({'RefBks'}), items_add=frozenset({'ChildBks'}), confidence=0.7062937062937062, lift=1.669725073980393)]),\n",
       " RelationRecord(items=frozenset({'NaN', 'GeogBks', 'ChildBks'}), support=0.194, ordered_statistics=[OrderedStatistic(items_base=frozenset({'GeogBks'}), items_add=frozenset({'NaN', 'ChildBks'}), confidence=0.7028985507246377, lift=1.665636376124734), OrderedStatistic(items_base=frozenset({'NaN', 'GeogBks'}), items_add=frozenset({'ChildBks'}), confidence=0.7054545454545454, lift=1.6677412422093274)]),\n",
       " RelationRecord(items=frozenset({'NaN', 'ChildBks', 'RefBks'}), support=0.1505, ordered_statistics=[OrderedStatistic(items_base=frozenset({'RefBks'}), items_add=frozenset({'NaN', 'ChildBks'}), confidence=0.7016317016317016, lift=1.6626343640561652), OrderedStatistic(items_base=frozenset({'NaN', 'RefBks'}), items_add=frozenset({'ChildBks'}), confidence=0.7049180327868853, lift=1.6664728907491377)])]"
      ]
     },
     "execution_count": 9,
     "metadata": {},
     "output_type": "execute_result"
    }
   ],
   "source": [
    "observations = []\n",
    "for i in range(DF.shape[0]):\n",
    "    observations.append([str(DF.values[i,j]) for j in range(DF.shape[1])])\n",
    "observations\n",
    "frequent_itemsets = list(apriori(observations, min_length = 41, max_length = 3, min_support = 0.15, min_confidence = 0.5, min_lift = 1.66))\n",
    "frequent_itemsets"
   ]
  },
  {
   "cell_type": "markdown",
   "id": "dadde6c7",
   "metadata": {},
   "source": [
    "###### min_length = 0, max_length = 2, min_support = 0.1, min_confidence = 0.1, min_lift = 2.3"
   ]
  },
  {
   "cell_type": "code",
   "execution_count": 10,
   "id": "b0707a2e",
   "metadata": {
    "scrolled": false
   },
   "outputs": [
    {
     "data": {
      "text/plain": [
       "[RelationRecord(items=frozenset({'ItalCook', 'CookBks'}), support=0.1135, ordered_statistics=[OrderedStatistic(items_base=frozenset({'CookBks'}), items_add=frozenset({'ItalCook'}), confidence=0.26334106728538287, lift=2.3201856148491884), OrderedStatistic(items_base=frozenset({'ItalCook'}), items_add=frozenset({'CookBks'}), confidence=1.0, lift=2.320185614849188)])]"
      ]
     },
     "execution_count": 10,
     "metadata": {},
     "output_type": "execute_result"
    }
   ],
   "source": [
    "observations = []\n",
    "for i in range(DF.shape[0]):\n",
    "    observations.append([str(DF.values[i,j]) for j in range(DF.shape[1])])\n",
    "observations\n",
    "frequent_itemsets = list(apriori(observations, min_length = 0, max_length = 2, min_support = 0.1, min_confidence = 0.1, min_lift = 2.3))\n",
    "frequent_itemsets"
   ]
  },
  {
   "cell_type": "markdown",
   "id": "6edfca4c",
   "metadata": {},
   "source": [
    "#### Visualization - apriori algorithm from mlxtend.frequent_patterns library - min_support=0.1"
   ]
  },
  {
   "cell_type": "code",
   "execution_count": 11,
   "id": "71d9408a",
   "metadata": {},
   "outputs": [],
   "source": [
    "from mlxtend.frequent_patterns import apriori,association_rules"
   ]
  },
  {
   "cell_type": "code",
   "execution_count": 12,
   "id": "30de6512",
   "metadata": {},
   "outputs": [],
   "source": [
    "df=pd.read_csv(\"C:\\\\Users\\\\shred\\\\Desktop\\\\Data Science\\\\Assignments\\\\Assignment 9 - Association Rules\\\\book.csv\")\n",
    "frequent_itemsets = apriori(df, min_support=0.1, use_colnames=True)\n",
    "rules = association_rules(frequent_itemsets, metric=\"lift\", min_threshold=0.7)"
   ]
  },
  {
   "cell_type": "markdown",
   "id": "387af164",
   "metadata": {},
   "source": [
    "#### Support vs Confidence"
   ]
  },
  {
   "cell_type": "code",
   "execution_count": 13,
   "id": "ce5f7d34",
   "metadata": {},
   "outputs": [
    {
     "data": {
      "image/png": "[encoded data removed]",
      "text/plain": [
       "<Figure size 432x288 with 1 Axes>"
      ]
     },
     "metadata": {
      "needs_background": "light"
     },
     "output_type": "display_data"
    }
   ],
   "source": [
    "plt.scatter(rules['support'], rules['confidence'], alpha=0.5)\n",
    "plt.xlabel('support')\n",
    "plt.ylabel('confidence')\n",
    "plt.title('Support vs Confidence')\n",
    "plt.show()"
   ]
  },
  {
   "cell_type": "markdown",
   "id": "e368ea07",
   "metadata": {},
   "source": [
    "#### Support vs Lift"
   ]
  },
  {
   "cell_type": "code",
   "execution_count": 14,
   "id": "b2834fbe",
   "metadata": {},
   "outputs": [
    {
     "data": {
      "image/png": "[encoded data removed]",
      "text/plain": [
       "<Figure size 432x288 with 1 Axes>"
      ]
     },
     "metadata": {
      "needs_background": "light"
     },
     "output_type": "display_data"
    }
   ],
   "source": [
    "plt.scatter(rules['support'], rules['lift'], alpha=0.5)\n",
    "plt.xlabel('support')\n",
    "plt.ylabel('lift')\n",
    "plt.title('Support vs Lift')\n",
    "plt.show()"
   ]
  },
  {
   "cell_type": "markdown",
   "id": "0a787231",
   "metadata": {},
   "source": [
    "#### Lift vs Confidence"
   ]
  },
  {
   "cell_type": "code",
   "execution_count": 15,
   "id": "592c2d68",
   "metadata": {
    "scrolled": true
   },
   "outputs": [
    {
     "data": {
      "image/png": "[encoded data removed]",
      "text/plain": [
       "<Figure size 432x288 with 1 Axes>"
      ]
     },
     "metadata": {
      "needs_background": "light"
     },
     "output_type": "display_data"
    }
   ],
   "source": [
    "plt.scatter(rules['lift'], rules['confidence'], alpha=0.5)\n",
    "plt.xlabel('lift')\n",
    "plt.ylabel('confidence')\n",
    "plt.title('Lift vs Confidence')\n",
    "plt.show()"
   ]
  },
  {
   "cell_type": "markdown",
   "id": "e119e1f4",
   "metadata": {},
   "source": [
    "# Dataset: my_movies"
   ]
  },
  {
   "cell_type": "code",
   "execution_count": 16,
   "id": "e3ed17b8",
   "metadata": {},
   "outputs": [],
   "source": [
    "df=pd.read_csv(\"C:\\\\Users\\\\shred\\\\Desktop\\\\Data Science\\\\Assignments\\\\Assignment 9 - Association Rules\\\\my_movies.csv\")"
   ]
  },
  {
   "cell_type": "code",
   "execution_count": 17,
   "id": "91f4bb88",
   "metadata": {
    "scrolled": true
   },
   "outputs": [
    {
     "data": {
      "text/html": [
       "<div>\n",
       "<style scoped>\n",
       "    .dataframe tbody tr th:only-of-type {\n",
       "        vertical-align: middle;\n",
       "    }\n",
       "\n",
       "    .dataframe tbody tr th {\n",
       "        vertical-align: top;\n",
       "    }\n",
       "\n",
       "    .dataframe thead th {\n",
       "        text-align: right;\n",
       "    }\n",
       "</style>\n",
       "<table border=\"1\" class=\"dataframe\">\n",
       "  <thead>\n",
       "    <tr style=\"text-align: right;\">\n",
       "      <th></th>\n",
       "      <th>V1</th>\n",
       "      <th>V2</th>\n",
       "      <th>V3</th>\n",
       "      <th>V4</th>\n",
       "      <th>V5</th>\n",
       "      <th>Sixth Sense</th>\n",
       "      <th>Gladiator</th>\n",
       "      <th>LOTR1</th>\n",
       "      <th>Harry Potter1</th>\n",
       "      <th>Patriot</th>\n",
       "      <th>LOTR2</th>\n",
       "      <th>Harry Potter2</th>\n",
       "      <th>LOTR</th>\n",
       "      <th>Braveheart</th>\n",
       "      <th>Green Mile</th>\n",
       "    </tr>\n",
       "  </thead>\n",
       "  <tbody>\n",
       "    <tr>\n",
       "      <th>0</th>\n",
       "      <td>Sixth Sense</td>\n",
       "      <td>LOTR1</td>\n",
       "      <td>Harry Potter1</td>\n",
       "      <td>Green Mile</td>\n",
       "      <td>LOTR2</td>\n",
       "      <td>1</td>\n",
       "      <td>0</td>\n",
       "      <td>1</td>\n",
       "      <td>1</td>\n",
       "      <td>0</td>\n",
       "      <td>1</td>\n",
       "      <td>0</td>\n",
       "      <td>0</td>\n",
       "      <td>0</td>\n",
       "      <td>1</td>\n",
       "    </tr>\n",
       "    <tr>\n",
       "      <th>1</th>\n",
       "      <td>Gladiator</td>\n",
       "      <td>Patriot</td>\n",
       "      <td>Braveheart</td>\n",
       "      <td>NaN</td>\n",
       "      <td>NaN</td>\n",
       "      <td>0</td>\n",
       "      <td>1</td>\n",
       "      <td>0</td>\n",
       "      <td>0</td>\n",
       "      <td>1</td>\n",
       "      <td>0</td>\n",
       "      <td>0</td>\n",
       "      <td>0</td>\n",
       "      <td>1</td>\n",
       "      <td>0</td>\n",
       "    </tr>\n",
       "    <tr>\n",
       "      <th>2</th>\n",
       "      <td>LOTR1</td>\n",
       "      <td>LOTR2</td>\n",
       "      <td>NaN</td>\n",
       "      <td>NaN</td>\n",
       "      <td>NaN</td>\n",
       "      <td>0</td>\n",
       "      <td>0</td>\n",
       "      <td>1</td>\n",
       "      <td>0</td>\n",
       "      <td>0</td>\n",
       "      <td>1</td>\n",
       "      <td>0</td>\n",
       "      <td>0</td>\n",
       "      <td>0</td>\n",
       "      <td>0</td>\n",
       "    </tr>\n",
       "    <tr>\n",
       "      <th>3</th>\n",
       "      <td>Gladiator</td>\n",
       "      <td>Patriot</td>\n",
       "      <td>Sixth Sense</td>\n",
       "      <td>NaN</td>\n",
       "      <td>NaN</td>\n",
       "      <td>1</td>\n",
       "      <td>1</td>\n",
       "      <td>0</td>\n",
       "      <td>0</td>\n",
       "      <td>1</td>\n",
       "      <td>0</td>\n",
       "      <td>0</td>\n",
       "      <td>0</td>\n",
       "      <td>0</td>\n",
       "      <td>0</td>\n",
       "    </tr>\n",
       "    <tr>\n",
       "      <th>4</th>\n",
       "      <td>Gladiator</td>\n",
       "      <td>Patriot</td>\n",
       "      <td>Sixth Sense</td>\n",
       "      <td>NaN</td>\n",
       "      <td>NaN</td>\n",
       "      <td>1</td>\n",
       "      <td>1</td>\n",
       "      <td>0</td>\n",
       "      <td>0</td>\n",
       "      <td>1</td>\n",
       "      <td>0</td>\n",
       "      <td>0</td>\n",
       "      <td>0</td>\n",
       "      <td>0</td>\n",
       "      <td>0</td>\n",
       "    </tr>\n",
       "  </tbody>\n",
       "</table>\n",
       "</div>"
      ],
      "text/plain": [
       "            V1       V2             V3          V4     V5  Sixth Sense  \\\n",
       "0  Sixth Sense    LOTR1  Harry Potter1  Green Mile  LOTR2            1   \n",
       "1    Gladiator  Patriot     Braveheart         NaN    NaN            0   \n",
       "2        LOTR1    LOTR2            NaN         NaN    NaN            0   \n",
       "3    Gladiator  Patriot    Sixth Sense         NaN    NaN            1   \n",
       "4    Gladiator  Patriot    Sixth Sense         NaN    NaN            1   \n",
       "\n",
       "   Gladiator  LOTR1  Harry Potter1  Patriot  LOTR2  Harry Potter2  LOTR  \\\n",
       "0          0      1              1        0      1              0     0   \n",
       "1          1      0              0        1      0              0     0   \n",
       "2          0      1              0        0      1              0     0   \n",
       "3          1      0              0        1      0              0     0   \n",
       "4          1      0              0        1      0              0     0   \n",
       "\n",
       "   Braveheart  Green Mile  \n",
       "0           0           1  \n",
       "1           1           0  \n",
       "2           0           0  \n",
       "3           0           0  \n",
       "4           0           0  "
      ]
     },
     "execution_count": 17,
     "metadata": {},
     "output_type": "execute_result"
    }
   ],
   "source": [
    "df.head()"
   ]
  },
  {
   "cell_type": "code",
   "execution_count": 18,
   "id": "8e76b5ab",
   "metadata": {},
   "outputs": [
    {
     "data": {
      "text/html": [
       "<div>\n",
       "<style scoped>\n",
       "    .dataframe tbody tr th:only-of-type {\n",
       "        vertical-align: middle;\n",
       "    }\n",
       "\n",
       "    .dataframe tbody tr th {\n",
       "        vertical-align: top;\n",
       "    }\n",
       "\n",
       "    .dataframe thead th {\n",
       "        text-align: right;\n",
       "    }\n",
       "</style>\n",
       "<table border=\"1\" class=\"dataframe\">\n",
       "  <thead>\n",
       "    <tr style=\"text-align: right;\">\n",
       "      <th></th>\n",
       "      <th>V1</th>\n",
       "      <th>V2</th>\n",
       "      <th>V3</th>\n",
       "      <th>V4</th>\n",
       "      <th>V5</th>\n",
       "    </tr>\n",
       "  </thead>\n",
       "  <tbody>\n",
       "    <tr>\n",
       "      <th>0</th>\n",
       "      <td>Sixth Sense</td>\n",
       "      <td>LOTR1</td>\n",
       "      <td>Harry Potter1</td>\n",
       "      <td>Green Mile</td>\n",
       "      <td>LOTR2</td>\n",
       "    </tr>\n",
       "    <tr>\n",
       "      <th>1</th>\n",
       "      <td>Gladiator</td>\n",
       "      <td>Patriot</td>\n",
       "      <td>Braveheart</td>\n",
       "      <td>NaN</td>\n",
       "      <td>NaN</td>\n",
       "    </tr>\n",
       "    <tr>\n",
       "      <th>2</th>\n",
       "      <td>LOTR1</td>\n",
       "      <td>LOTR2</td>\n",
       "      <td>NaN</td>\n",
       "      <td>NaN</td>\n",
       "      <td>NaN</td>\n",
       "    </tr>\n",
       "    <tr>\n",
       "      <th>3</th>\n",
       "      <td>Gladiator</td>\n",
       "      <td>Patriot</td>\n",
       "      <td>Sixth Sense</td>\n",
       "      <td>NaN</td>\n",
       "      <td>NaN</td>\n",
       "    </tr>\n",
       "    <tr>\n",
       "      <th>4</th>\n",
       "      <td>Gladiator</td>\n",
       "      <td>Patriot</td>\n",
       "      <td>Sixth Sense</td>\n",
       "      <td>NaN</td>\n",
       "      <td>NaN</td>\n",
       "    </tr>\n",
       "  </tbody>\n",
       "</table>\n",
       "</div>"
      ],
      "text/plain": [
       "            V1       V2             V3          V4     V5\n",
       "0  Sixth Sense    LOTR1  Harry Potter1  Green Mile  LOTR2\n",
       "1    Gladiator  Patriot     Braveheart         NaN    NaN\n",
       "2        LOTR1    LOTR2            NaN         NaN    NaN\n",
       "3    Gladiator  Patriot    Sixth Sense         NaN    NaN\n",
       "4    Gladiator  Patriot    Sixth Sense         NaN    NaN"
      ]
     },
     "execution_count": 18,
     "metadata": {},
     "output_type": "execute_result"
    }
   ],
   "source": [
    "for i in df.columns:\n",
    "    if i not in ['V1','V2','V3','V4','V5']:\n",
    "        df.pop(i)\n",
    "df.head()"
   ]
  },
  {
   "cell_type": "markdown",
   "id": "eda6317b",
   "metadata": {},
   "source": [
    "#### apriori algorithm from apyori library"
   ]
  },
  {
   "cell_type": "code",
   "execution_count": 19,
   "id": "cf916f65",
   "metadata": {},
   "outputs": [],
   "source": [
    "from apyori import apriori"
   ]
  },
  {
   "cell_type": "markdown",
   "id": "7b9bdb11",
   "metadata": {},
   "source": [
    "###### min_length = 41, max_length = 3, min_support = 0.2, min_confidence = 0.2, min_lift = 1.5"
   ]
  },
  {
   "cell_type": "code",
   "execution_count": 20,
   "id": "477ea3b9",
   "metadata": {
    "scrolled": false
   },
   "outputs": [
    {
     "data": {
      "text/plain": [
       "[RelationRecord(items=frozenset({'Green Mile', 'Sixth Sense'}), support=0.2, ordered_statistics=[OrderedStatistic(items_base=frozenset({'Green Mile'}), items_add=frozenset({'Sixth Sense'}), confidence=1.0, lift=1.6666666666666667), OrderedStatistic(items_base=frozenset({'Sixth Sense'}), items_add=frozenset({'Green Mile'}), confidence=0.33333333333333337, lift=1.6666666666666667)]),\n",
       " RelationRecord(items=frozenset({'LOTR2', 'LOTR1'}), support=0.2, ordered_statistics=[OrderedStatistic(items_base=frozenset({'LOTR1'}), items_add=frozenset({'LOTR2'}), confidence=1.0, lift=5.0), OrderedStatistic(items_base=frozenset({'LOTR2'}), items_add=frozenset({'LOTR1'}), confidence=1.0, lift=5.0)])]"
      ]
     },
     "execution_count": 20,
     "metadata": {},
     "output_type": "execute_result"
    }
   ],
   "source": [
    "observations = []\n",
    "for i in range(df.shape[0]):\n",
    "    observations.append([str(df.values[i,j]) for j in range(df.shape[1])])\n",
    "observations\n",
    "frequent_itemsets = list(apriori(observations, min_length = 41, max_length = 3, min_support = 0.2, min_confidence = 0.2, min_lift = 1.5))\n",
    "frequent_itemsets"
   ]
  },
  {
   "cell_type": "markdown",
   "id": "c654bf34",
   "metadata": {},
   "source": [
    "###### min_length = 41, max_length = 3, min_support = 0.15, min_confidence = 0.5, min_lift = 1.66"
   ]
  },
  {
   "cell_type": "code",
   "execution_count": 21,
   "id": "455c3b7a",
   "metadata": {
    "scrolled": false
   },
   "outputs": [
    {
     "data": {
      "text/plain": [
       "[RelationRecord(items=frozenset({'Green Mile', 'Sixth Sense'}), support=0.2, ordered_statistics=[OrderedStatistic(items_base=frozenset({'Green Mile'}), items_add=frozenset({'Sixth Sense'}), confidence=1.0, lift=1.6666666666666667)]),\n",
       " RelationRecord(items=frozenset({'LOTR2', 'LOTR1'}), support=0.2, ordered_statistics=[OrderedStatistic(items_base=frozenset({'LOTR1'}), items_add=frozenset({'LOTR2'}), confidence=1.0, lift=5.0), OrderedStatistic(items_base=frozenset({'LOTR2'}), items_add=frozenset({'LOTR1'}), confidence=1.0, lift=5.0)])]"
      ]
     },
     "execution_count": 21,
     "metadata": {},
     "output_type": "execute_result"
    }
   ],
   "source": [
    "observations = []\n",
    "for i in range(df.shape[0]):\n",
    "    observations.append([str(df.values[i,j]) for j in range(df.shape[1])])\n",
    "observations\n",
    "frequent_itemsets = list(apriori(observations, min_length = 41, max_length = 3, min_support = 0.15, min_confidence = 0.5, min_lift = 1.66))\n",
    "frequent_itemsets"
   ]
  },
  {
   "cell_type": "markdown",
   "id": "dadde6c7",
   "metadata": {},
   "source": [
    "###### min_length = 0, max_length = 2, min_support = 0.1, min_confidence = 0.1, min_lift = 2.3"
   ]
  },
  {
   "cell_type": "code",
   "execution_count": 22,
   "id": "b0707a2e",
   "metadata": {
    "scrolled": false
   },
   "outputs": [
    {
     "data": {
      "text/plain": [
       "[RelationRecord(items=frozenset({'Green Mile', 'Harry Potter1'}), support=0.1, ordered_statistics=[OrderedStatistic(items_base=frozenset({'Green Mile'}), items_add=frozenset({'Harry Potter1'}), confidence=0.5, lift=2.5), OrderedStatistic(items_base=frozenset({'Harry Potter1'}), items_add=frozenset({'Green Mile'}), confidence=0.5, lift=2.5)]),\n",
       " RelationRecord(items=frozenset({'Green Mile', 'LOTR'}), support=0.1, ordered_statistics=[OrderedStatistic(items_base=frozenset({'Green Mile'}), items_add=frozenset({'LOTR'}), confidence=0.5, lift=5.0), OrderedStatistic(items_base=frozenset({'LOTR'}), items_add=frozenset({'Green Mile'}), confidence=1.0, lift=5.0)]),\n",
       " RelationRecord(items=frozenset({'Green Mile', 'LOTR1'}), support=0.1, ordered_statistics=[OrderedStatistic(items_base=frozenset({'Green Mile'}), items_add=frozenset({'LOTR1'}), confidence=0.5, lift=2.5), OrderedStatistic(items_base=frozenset({'LOTR1'}), items_add=frozenset({'Green Mile'}), confidence=0.5, lift=2.5)]),\n",
       " RelationRecord(items=frozenset({'Green Mile', 'LOTR2'}), support=0.1, ordered_statistics=[OrderedStatistic(items_base=frozenset({'Green Mile'}), items_add=frozenset({'LOTR2'}), confidence=0.5, lift=2.5), OrderedStatistic(items_base=frozenset({'LOTR2'}), items_add=frozenset({'Green Mile'}), confidence=0.5, lift=2.5)]),\n",
       " RelationRecord(items=frozenset({'Harry Potter2', 'Harry Potter1'}), support=0.1, ordered_statistics=[OrderedStatistic(items_base=frozenset({'Harry Potter1'}), items_add=frozenset({'Harry Potter2'}), confidence=0.5, lift=5.0), OrderedStatistic(items_base=frozenset({'Harry Potter2'}), items_add=frozenset({'Harry Potter1'}), confidence=1.0, lift=5.0)]),\n",
       " RelationRecord(items=frozenset({'LOTR1', 'Harry Potter1'}), support=0.1, ordered_statistics=[OrderedStatistic(items_base=frozenset({'Harry Potter1'}), items_add=frozenset({'LOTR1'}), confidence=0.5, lift=2.5), OrderedStatistic(items_base=frozenset({'LOTR1'}), items_add=frozenset({'Harry Potter1'}), confidence=0.5, lift=2.5)]),\n",
       " RelationRecord(items=frozenset({'LOTR2', 'Harry Potter1'}), support=0.1, ordered_statistics=[OrderedStatistic(items_base=frozenset({'Harry Potter1'}), items_add=frozenset({'LOTR2'}), confidence=0.5, lift=2.5), OrderedStatistic(items_base=frozenset({'LOTR2'}), items_add=frozenset({'Harry Potter1'}), confidence=0.5, lift=2.5)]),\n",
       " RelationRecord(items=frozenset({'LOTR2', 'LOTR1'}), support=0.2, ordered_statistics=[OrderedStatistic(items_base=frozenset({'LOTR1'}), items_add=frozenset({'LOTR2'}), confidence=1.0, lift=5.0), OrderedStatistic(items_base=frozenset({'LOTR2'}), items_add=frozenset({'LOTR1'}), confidence=1.0, lift=5.0)])]"
      ]
     },
     "execution_count": 22,
     "metadata": {},
     "output_type": "execute_result"
    }
   ],
   "source": [
    "observations = []\n",
    "for i in range(df.shape[0]):\n",
    "    observations.append([str(df.values[i,j]) for j in range(df.shape[1])])\n",
    "observations\n",
    "frequent_itemsets = list(apriori(observations, min_length = 0, max_length = 2, min_support = 0.1, min_confidence = 0.1, min_lift = 2.3))\n",
    "frequent_itemsets"
   ]
  },
  {
   "cell_type": "markdown",
   "id": "5b6cd4b6",
   "metadata": {},
   "source": [
    "#### Visualization - apriori algorithm from mlxtend.frequent_patterns library - min_support=0.1"
   ]
  },
  {
   "cell_type": "code",
   "execution_count": 23,
   "id": "ae909d6b",
   "metadata": {},
   "outputs": [],
   "source": [
    "from mlxtend.frequent_patterns import apriori,association_rules"
   ]
  },
  {
   "cell_type": "code",
   "execution_count": 24,
   "id": "54de5dd7",
   "metadata": {},
   "outputs": [],
   "source": [
    "df=pd.get_dummies(df)\n",
    "frequent_itemsets = apriori(df, min_support=0.1, use_colnames=True)\n",
    "rules = association_rules(frequent_itemsets, metric=\"lift\", min_threshold=0.7)"
   ]
  },
  {
   "cell_type": "markdown",
   "id": "c92d342e",
   "metadata": {},
   "source": [
    "#### Support vs Confidence"
   ]
  },
  {
   "cell_type": "code",
   "execution_count": 25,
   "id": "c69536ca",
   "metadata": {},
   "outputs": [
    {
     "data": {
      "image/png": "[encoded data removed]",
      "text/plain": [
       "<Figure size 432x288 with 1 Axes>"
      ]
     },
     "metadata": {
      "needs_background": "light"
     },
     "output_type": "display_data"
    }
   ],
   "source": [
    "plt.scatter(rules['support'], rules['confidence'], alpha=0.5)\n",
    "plt.xlabel('support')\n",
    "plt.ylabel('confidence')\n",
    "plt.title('Support vs Confidence')\n",
    "plt.show()"
   ]
  },
  {
   "cell_type": "markdown",
   "id": "00d1a593",
   "metadata": {},
   "source": [
    "#### Support vs Lift"
   ]
  },
  {
   "cell_type": "code",
   "execution_count": 26,
   "id": "ac344a7c",
   "metadata": {},
   "outputs": [
    {
     "data": {
      "image/png": "[encoded data removed]",
      "text/plain": [
       "<Figure size 432x288 with 1 Axes>"
      ]
     },
     "metadata": {
      "needs_background": "light"
     },
     "output_type": "display_data"
    }
   ],
   "source": [
    "plt.scatter(rules['support'], rules['lift'], alpha=0.5)\n",
    "plt.xlabel('support')\n",
    "plt.ylabel('lift')\n",
    "plt.title('Support vs Lift')\n",
    "plt.show()"
   ]
  },
  {
   "cell_type": "markdown",
   "id": "a6caca61",
   "metadata": {},
   "source": [
    "#### Lift vs Confidence"
   ]
  },
  {
   "cell_type": "code",
   "execution_count": 27,
   "id": "acf0bd4d",
   "metadata": {
    "scrolled": true
   },
   "outputs": [
    {
     "data": {
      "image/png": "[encoded data removed]",
      "text/plain": [
       "<Figure size 432x288 with 1 Axes>"
      ]
     },
     "metadata": {
      "needs_background": "light"
     },
     "output_type": "display_data"
    }
   ],
   "source": [
    "plt.scatter(rules['lift'], rules['confidence'], alpha=0.5)\n",
    "plt.xlabel('lift')\n",
    "plt.ylabel('confidence')\n",
    "plt.title('Lift vs Confidence')\n",
    "plt.show()"
   ]
  },
  {
   "cell_type": "markdown",
   "id": "83980616",
   "metadata": {},
   "source": [
    "###### It is clear that min_length argument of the apriori algorithm in apyori library does not affect the rules."
   ]
  }
 ],
 "metadata": {
  "kernelspec": {
   "display_name": "Python 3 (ipykernel)",
   "language": "python",
   "name": "python3"
  },
  "language_info": {
   "codemirror_mode": {
    "name": "ipython",
    "version": 3
   },
   "file_extension": ".py",
   "mimetype": "text/x-python",
   "name": "python",
   "nbconvert_exporter": "python",
   "pygments_lexer": "ipython3",
   "version": "3.9.7"
  }
 },
 "nbformat": 4,
 "nbformat_minor": 5
}
