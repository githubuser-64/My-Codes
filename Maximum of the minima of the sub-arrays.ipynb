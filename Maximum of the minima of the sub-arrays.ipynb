{
 "cells": [
  {
   "cell_type": "code",
   "execution_count": 1,
   "id": "aab9618c-4f67-4925-8842-40fdee5266b1",
   "metadata": {},
   "outputs": [
    {
     "name": "stdin",
     "output_type": "stream",
     "text": [
      " 4\n",
      " 12#45#33#27\n",
      " 94#54#23#53\n",
      " 98#59#27#62\n",
      " 11#51#67#13\n"
     ]
    },
    {
     "name": "stdout",
     "output_type": "stream",
     "text": [
      "[12, 45, 33, 27]\n",
      "[94, 54, 23, 53]\n",
      "[98, 59, 27, 62]\n",
      "[11, 51, 67, 13]\n",
      "[[0, 0, 0, 0], [0, 1, 0, 0], [0, 2, 1, 2], [0, 3, 1, 2], [1, 0, 0, 0], [1, 1, 0, 0], [1, 2, 1, 2], [1, 3, 1, 2], [2, 0, 3, 0], [2, 1, 3, 0], [2, 2, 3, 3], [2, 3, 3, 3], [3, 0, 3, 0], [3, 1, 3, 0], [3, 2, 3, 3], [3, 3, 3, 3]]\n",
      "[[11], [11], [11], [11], [12], [12], [12], [12], [13], [13], [13], [13], [23], [23], [23], [23]]\n",
      "1#3\n",
      "1#4\n",
      "2#3\n",
      "2#4\n"
     ]
    }
   ],
   "source": [
    "#Define function main()\n",
    "def main():\n",
    "    line=''\n",
    "    b=''\n",
    "    c=[]\n",
    "    d=[]\n",
    "    e=[]\n",
    "    v=[]\n",
    "    maxdict=[]\n",
    "    g=[]\n",
    "    h=[]\n",
    "    f=0\n",
    "    N=int(input())\n",
    "    if N>1 and N<500:\n",
    "        for i in range(N):\n",
    "            #Adds hash symbol at the end to take elements from it and make an NxN list\n",
    "            line=line+'#'+input()+'#'\n",
    "        \n",
    "        for a in line:\n",
    "            if a!='#':\n",
    "                b=b+a\n",
    "            elif b!='':\n",
    "                c.append(int(b))\n",
    "                b=''\n",
    "        #print(c)\n",
    "        for i in c:\n",
    "            #Breaks the 1-D array into 1-D arrays of size N and merges them to form NxN array\n",
    "            if (f)%N!=0 or f==0:\n",
    "                e.append(i)\n",
    "                f=f+1\n",
    "            elif f!=0:\n",
    "                d.append(e)\n",
    "                e=[]\n",
    "                e.append(i)\n",
    "                f=f+1\n",
    "            if f==N*N:\n",
    "                d.append(e)\n",
    "        for y in range(4):\n",
    "            print(d[y])\n",
    "        #i row number, j column number. All elements in 1st row from left to right. Then second row and so on. (element-by-element row-by-row.)\n",
    "        for i in range(N):\n",
    "            for j in range(N):\n",
    "                w=d[i][j]\n",
    "                k=i\n",
    "                l=j\n",
    "                #Checks all elements 1 element above or below, left or right including itself. A 3x3 sub-array with element i,j as the focus.\n",
    "                for m in range(3):\n",
    "                    for n in range(3):\n",
    "                        #Compares the elements with element i,j and finds the minimum within that sub-array.\n",
    "                        o=i-1+m\n",
    "                        p=j-1+n\n",
    "                        #The if conditions for boundary elements like 0,0;0,1;3,3 as in the case of 0,0. o,p=-1,-1 and in case of 3,3. o,p=4,4\n",
    "                        if o>=0 and o<=N-1 and p>=0 and p<=N-1:\n",
    "                            #assign the value of the d[o][p] to w if w is great than d[o][p]\n",
    "                            if w>d[o][p]:\n",
    "                                w=d[o][p]\n",
    "                                #Take note of the values of o,p. This element for every i,j is the minimum.\n",
    "                                k=o\n",
    "                                l=p\n",
    "                #Collects the result of the search and makes the note of the result for each i,j.\n",
    "                v.append([i,j,k,l])\n",
    "                #Collect the values of corresponding array elements\n",
    "                h.append([d[k][l]])\n",
    "        #Sort to find the maximum of the minimum values for the above searches\n",
    "        h.sort()\n",
    "        a=h[-1]#Last element of array that has elements in ascending order. Hence, max of all minima\n",
    "        print(v)\n",
    "        print(h)\n",
    "        #print values of i,j for which minimum is same amd is equal to max of all minima\n",
    "        for i,j,k,l in v:\n",
    "            #Compares values of array to 0th element of array which contains only one value.\n",
    "            if d[k][l]==a[0]:\n",
    "                #Converts it into string into the format of the problem statement\n",
    "                print(str(i+1)+'#'+str(j+1))\n",
    "    else:\n",
    "        stop\n",
    "main()"
   ]
  }
 ],
 "metadata": {
  "kernelspec": {
   "display_name": "Python 3 (ipykernel)",
   "language": "python",
   "name": "python3"
  },
  "language_info": {
   "codemirror_mode": {
    "name": "ipython",
    "version": 3
   },
   "file_extension": ".py",
   "mimetype": "text/x-python",
   "name": "python",
   "nbconvert_exporter": "python",
   "pygments_lexer": "ipython3",
   "version": "3.11.9"
  }
 },
 "nbformat": 4,
 "nbformat_minor": 5
}
