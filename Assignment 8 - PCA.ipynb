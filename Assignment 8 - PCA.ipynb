{
 "cells": [
  {
   "cell_type": "code",
   "execution_count": 1,
   "id": "ba1bcee5",
   "metadata": {},
   "outputs": [],
   "source": [
    "import pandas as pd \n",
    "import numpy as np\n",
    "import matplotlib.pyplot as plt\n",
    "from sklearn.decomposition import PCA\n",
    "from sklearn.preprocessing import scale\n",
    "import seaborn as sn\n",
    "from sklearn.cluster import AgglomerativeClustering\n",
    "import scipy.cluster.hierarchy as sch\n",
    "from sklearn.cluster import KMeans"
   ]
  },
  {
   "cell_type": "code",
   "execution_count": 2,
   "id": "d53f4465",
   "metadata": {},
   "outputs": [],
   "source": [
    "df=pd.read_csv(\"C:\\\\Users\\\\shred\\\\Desktop\\\\Data Science\\\\Assignments\\\\Assignment 8 - PCA\\\\wine.csv\")"
   ]
  },
  {
   "cell_type": "code",
   "execution_count": 3,
   "id": "93abacd2",
   "metadata": {},
   "outputs": [
    {
     "data": {
      "text/html": [
       "<div>\n",
       "<style scoped>\n",
       "    .dataframe tbody tr th:only-of-type {\n",
       "        vertical-align: middle;\n",
       "    }\n",
       "\n",
       "    .dataframe tbody tr th {\n",
       "        vertical-align: top;\n",
       "    }\n",
       "\n",
       "    .dataframe thead th {\n",
       "        text-align: right;\n",
       "    }\n",
       "</style>\n",
       "<table border=\"1\" class=\"dataframe\">\n",
       "  <thead>\n",
       "    <tr style=\"text-align: right;\">\n",
       "      <th></th>\n",
       "      <th>Type</th>\n",
       "      <th>Alcohol</th>\n",
       "      <th>Malic</th>\n",
       "      <th>Ash</th>\n",
       "      <th>Alcalinity</th>\n",
       "      <th>Magnesium</th>\n",
       "      <th>Phenols</th>\n",
       "      <th>Flavanoids</th>\n",
       "      <th>Nonflavanoids</th>\n",
       "      <th>Proanthocyanins</th>\n",
       "      <th>Color</th>\n",
       "      <th>Hue</th>\n",
       "      <th>Dilution</th>\n",
       "      <th>Proline</th>\n",
       "    </tr>\n",
       "  </thead>\n",
       "  <tbody>\n",
       "    <tr>\n",
       "      <th>0</th>\n",
       "      <td>1</td>\n",
       "      <td>14.23</td>\n",
       "      <td>1.71</td>\n",
       "      <td>2.43</td>\n",
       "      <td>15.6</td>\n",
       "      <td>127</td>\n",
       "      <td>2.80</td>\n",
       "      <td>3.06</td>\n",
       "      <td>0.28</td>\n",
       "      <td>2.29</td>\n",
       "      <td>5.64</td>\n",
       "      <td>1.04</td>\n",
       "      <td>3.92</td>\n",
       "      <td>1065</td>\n",
       "    </tr>\n",
       "    <tr>\n",
       "      <th>1</th>\n",
       "      <td>1</td>\n",
       "      <td>13.20</td>\n",
       "      <td>1.78</td>\n",
       "      <td>2.14</td>\n",
       "      <td>11.2</td>\n",
       "      <td>100</td>\n",
       "      <td>2.65</td>\n",
       "      <td>2.76</td>\n",
       "      <td>0.26</td>\n",
       "      <td>1.28</td>\n",
       "      <td>4.38</td>\n",
       "      <td>1.05</td>\n",
       "      <td>3.40</td>\n",
       "      <td>1050</td>\n",
       "    </tr>\n",
       "    <tr>\n",
       "      <th>2</th>\n",
       "      <td>1</td>\n",
       "      <td>13.16</td>\n",
       "      <td>2.36</td>\n",
       "      <td>2.67</td>\n",
       "      <td>18.6</td>\n",
       "      <td>101</td>\n",
       "      <td>2.80</td>\n",
       "      <td>3.24</td>\n",
       "      <td>0.30</td>\n",
       "      <td>2.81</td>\n",
       "      <td>5.68</td>\n",
       "      <td>1.03</td>\n",
       "      <td>3.17</td>\n",
       "      <td>1185</td>\n",
       "    </tr>\n",
       "    <tr>\n",
       "      <th>3</th>\n",
       "      <td>1</td>\n",
       "      <td>14.37</td>\n",
       "      <td>1.95</td>\n",
       "      <td>2.50</td>\n",
       "      <td>16.8</td>\n",
       "      <td>113</td>\n",
       "      <td>3.85</td>\n",
       "      <td>3.49</td>\n",
       "      <td>0.24</td>\n",
       "      <td>2.18</td>\n",
       "      <td>7.80</td>\n",
       "      <td>0.86</td>\n",
       "      <td>3.45</td>\n",
       "      <td>1480</td>\n",
       "    </tr>\n",
       "    <tr>\n",
       "      <th>4</th>\n",
       "      <td>1</td>\n",
       "      <td>13.24</td>\n",
       "      <td>2.59</td>\n",
       "      <td>2.87</td>\n",
       "      <td>21.0</td>\n",
       "      <td>118</td>\n",
       "      <td>2.80</td>\n",
       "      <td>2.69</td>\n",
       "      <td>0.39</td>\n",
       "      <td>1.82</td>\n",
       "      <td>4.32</td>\n",
       "      <td>1.04</td>\n",
       "      <td>2.93</td>\n",
       "      <td>735</td>\n",
       "    </tr>\n",
       "  </tbody>\n",
       "</table>\n",
       "</div>"
      ],
      "text/plain": [
       "   Type  Alcohol  Malic   Ash  Alcalinity  Magnesium  Phenols  Flavanoids  \\\n",
       "0     1    14.23   1.71  2.43        15.6        127     2.80        3.06   \n",
       "1     1    13.20   1.78  2.14        11.2        100     2.65        2.76   \n",
       "2     1    13.16   2.36  2.67        18.6        101     2.80        3.24   \n",
       "3     1    14.37   1.95  2.50        16.8        113     3.85        3.49   \n",
       "4     1    13.24   2.59  2.87        21.0        118     2.80        2.69   \n",
       "\n",
       "   Nonflavanoids  Proanthocyanins  Color   Hue  Dilution  Proline  \n",
       "0           0.28             2.29   5.64  1.04      3.92     1065  \n",
       "1           0.26             1.28   4.38  1.05      3.40     1050  \n",
       "2           0.30             2.81   5.68  1.03      3.17     1185  \n",
       "3           0.24             2.18   7.80  0.86      3.45     1480  \n",
       "4           0.39             1.82   4.32  1.04      2.93      735  "
      ]
     },
     "execution_count": 3,
     "metadata": {},
     "output_type": "execute_result"
    }
   ],
   "source": [
    "df.head()"
   ]
  },
  {
   "cell_type": "code",
   "execution_count": 4,
   "id": "881359f0",
   "metadata": {},
   "outputs": [
    {
     "data": {
      "text/plain": [
       "(178, 14)"
      ]
     },
     "execution_count": 4,
     "metadata": {},
     "output_type": "execute_result"
    }
   ],
   "source": [
    "df.shape"
   ]
  },
  {
   "cell_type": "code",
   "execution_count": 5,
   "id": "b4cf4491",
   "metadata": {},
   "outputs": [
    {
     "data": {
      "text/plain": [
       "2    71\n",
       "1    59\n",
       "3    48\n",
       "Name: Type, dtype: int64"
      ]
     },
     "execution_count": 5,
     "metadata": {},
     "output_type": "execute_result"
    }
   ],
   "source": [
    "df[\"Type\"].value_counts()"
   ]
  },
  {
   "cell_type": "code",
   "execution_count": 6,
   "id": "f53d315f",
   "metadata": {},
   "outputs": [
    {
     "data": {
      "text/html": [
       "<div>\n",
       "<style scoped>\n",
       "    .dataframe tbody tr th:only-of-type {\n",
       "        vertical-align: middle;\n",
       "    }\n",
       "\n",
       "    .dataframe tbody tr th {\n",
       "        vertical-align: top;\n",
       "    }\n",
       "\n",
       "    .dataframe thead th {\n",
       "        text-align: right;\n",
       "    }\n",
       "</style>\n",
       "<table border=\"1\" class=\"dataframe\">\n",
       "  <thead>\n",
       "    <tr style=\"text-align: right;\">\n",
       "      <th></th>\n",
       "      <th>Type</th>\n",
       "      <th>Alcohol</th>\n",
       "      <th>Malic</th>\n",
       "      <th>Ash</th>\n",
       "      <th>Alcalinity</th>\n",
       "      <th>Magnesium</th>\n",
       "      <th>Phenols</th>\n",
       "      <th>Flavanoids</th>\n",
       "      <th>Nonflavanoids</th>\n",
       "      <th>Proanthocyanins</th>\n",
       "      <th>Color</th>\n",
       "      <th>Hue</th>\n",
       "      <th>Dilution</th>\n",
       "      <th>Proline</th>\n",
       "    </tr>\n",
       "  </thead>\n",
       "  <tbody>\n",
       "    <tr>\n",
       "      <th>count</th>\n",
       "      <td>178.000000</td>\n",
       "      <td>178.000000</td>\n",
       "      <td>178.000000</td>\n",
       "      <td>178.000000</td>\n",
       "      <td>178.000000</td>\n",
       "      <td>178.000000</td>\n",
       "      <td>178.000000</td>\n",
       "      <td>178.000000</td>\n",
       "      <td>178.000000</td>\n",
       "      <td>178.000000</td>\n",
       "      <td>178.000000</td>\n",
       "      <td>178.000000</td>\n",
       "      <td>178.000000</td>\n",
       "      <td>178.000000</td>\n",
       "    </tr>\n",
       "    <tr>\n",
       "      <th>mean</th>\n",
       "      <td>1.938202</td>\n",
       "      <td>13.000618</td>\n",
       "      <td>2.336348</td>\n",
       "      <td>2.366517</td>\n",
       "      <td>19.494944</td>\n",
       "      <td>99.741573</td>\n",
       "      <td>2.295112</td>\n",
       "      <td>2.029270</td>\n",
       "      <td>0.361854</td>\n",
       "      <td>1.590899</td>\n",
       "      <td>5.058090</td>\n",
       "      <td>0.957449</td>\n",
       "      <td>2.611685</td>\n",
       "      <td>746.893258</td>\n",
       "    </tr>\n",
       "    <tr>\n",
       "      <th>std</th>\n",
       "      <td>0.775035</td>\n",
       "      <td>0.811827</td>\n",
       "      <td>1.117146</td>\n",
       "      <td>0.274344</td>\n",
       "      <td>3.339564</td>\n",
       "      <td>14.282484</td>\n",
       "      <td>0.625851</td>\n",
       "      <td>0.998859</td>\n",
       "      <td>0.124453</td>\n",
       "      <td>0.572359</td>\n",
       "      <td>2.318286</td>\n",
       "      <td>0.228572</td>\n",
       "      <td>0.709990</td>\n",
       "      <td>314.907474</td>\n",
       "    </tr>\n",
       "    <tr>\n",
       "      <th>min</th>\n",
       "      <td>1.000000</td>\n",
       "      <td>11.030000</td>\n",
       "      <td>0.740000</td>\n",
       "      <td>1.360000</td>\n",
       "      <td>10.600000</td>\n",
       "      <td>70.000000</td>\n",
       "      <td>0.980000</td>\n",
       "      <td>0.340000</td>\n",
       "      <td>0.130000</td>\n",
       "      <td>0.410000</td>\n",
       "      <td>1.280000</td>\n",
       "      <td>0.480000</td>\n",
       "      <td>1.270000</td>\n",
       "      <td>278.000000</td>\n",
       "    </tr>\n",
       "    <tr>\n",
       "      <th>25%</th>\n",
       "      <td>1.000000</td>\n",
       "      <td>12.362500</td>\n",
       "      <td>1.602500</td>\n",
       "      <td>2.210000</td>\n",
       "      <td>17.200000</td>\n",
       "      <td>88.000000</td>\n",
       "      <td>1.742500</td>\n",
       "      <td>1.205000</td>\n",
       "      <td>0.270000</td>\n",
       "      <td>1.250000</td>\n",
       "      <td>3.220000</td>\n",
       "      <td>0.782500</td>\n",
       "      <td>1.937500</td>\n",
       "      <td>500.500000</td>\n",
       "    </tr>\n",
       "    <tr>\n",
       "      <th>50%</th>\n",
       "      <td>2.000000</td>\n",
       "      <td>13.050000</td>\n",
       "      <td>1.865000</td>\n",
       "      <td>2.360000</td>\n",
       "      <td>19.500000</td>\n",
       "      <td>98.000000</td>\n",
       "      <td>2.355000</td>\n",
       "      <td>2.135000</td>\n",
       "      <td>0.340000</td>\n",
       "      <td>1.555000</td>\n",
       "      <td>4.690000</td>\n",
       "      <td>0.965000</td>\n",
       "      <td>2.780000</td>\n",
       "      <td>673.500000</td>\n",
       "    </tr>\n",
       "    <tr>\n",
       "      <th>75%</th>\n",
       "      <td>3.000000</td>\n",
       "      <td>13.677500</td>\n",
       "      <td>3.082500</td>\n",
       "      <td>2.557500</td>\n",
       "      <td>21.500000</td>\n",
       "      <td>107.000000</td>\n",
       "      <td>2.800000</td>\n",
       "      <td>2.875000</td>\n",
       "      <td>0.437500</td>\n",
       "      <td>1.950000</td>\n",
       "      <td>6.200000</td>\n",
       "      <td>1.120000</td>\n",
       "      <td>3.170000</td>\n",
       "      <td>985.000000</td>\n",
       "    </tr>\n",
       "    <tr>\n",
       "      <th>max</th>\n",
       "      <td>3.000000</td>\n",
       "      <td>14.830000</td>\n",
       "      <td>5.800000</td>\n",
       "      <td>3.230000</td>\n",
       "      <td>30.000000</td>\n",
       "      <td>162.000000</td>\n",
       "      <td>3.880000</td>\n",
       "      <td>5.080000</td>\n",
       "      <td>0.660000</td>\n",
       "      <td>3.580000</td>\n",
       "      <td>13.000000</td>\n",
       "      <td>1.710000</td>\n",
       "      <td>4.000000</td>\n",
       "      <td>1680.000000</td>\n",
       "    </tr>\n",
       "  </tbody>\n",
       "</table>\n",
       "</div>"
      ],
      "text/plain": [
       "             Type     Alcohol       Malic         Ash  Alcalinity   Magnesium  \\\n",
       "count  178.000000  178.000000  178.000000  178.000000  178.000000  178.000000   \n",
       "mean     1.938202   13.000618    2.336348    2.366517   19.494944   99.741573   \n",
       "std      0.775035    0.811827    1.117146    0.274344    3.339564   14.282484   \n",
       "min      1.000000   11.030000    0.740000    1.360000   10.600000   70.000000   \n",
       "25%      1.000000   12.362500    1.602500    2.210000   17.200000   88.000000   \n",
       "50%      2.000000   13.050000    1.865000    2.360000   19.500000   98.000000   \n",
       "75%      3.000000   13.677500    3.082500    2.557500   21.500000  107.000000   \n",
       "max      3.000000   14.830000    5.800000    3.230000   30.000000  162.000000   \n",
       "\n",
       "          Phenols  Flavanoids  Nonflavanoids  Proanthocyanins       Color  \\\n",
       "count  178.000000  178.000000     178.000000       178.000000  178.000000   \n",
       "mean     2.295112    2.029270       0.361854         1.590899    5.058090   \n",
       "std      0.625851    0.998859       0.124453         0.572359    2.318286   \n",
       "min      0.980000    0.340000       0.130000         0.410000    1.280000   \n",
       "25%      1.742500    1.205000       0.270000         1.250000    3.220000   \n",
       "50%      2.355000    2.135000       0.340000         1.555000    4.690000   \n",
       "75%      2.800000    2.875000       0.437500         1.950000    6.200000   \n",
       "max      3.880000    5.080000       0.660000         3.580000   13.000000   \n",
       "\n",
       "              Hue    Dilution      Proline  \n",
       "count  178.000000  178.000000   178.000000  \n",
       "mean     0.957449    2.611685   746.893258  \n",
       "std      0.228572    0.709990   314.907474  \n",
       "min      0.480000    1.270000   278.000000  \n",
       "25%      0.782500    1.937500   500.500000  \n",
       "50%      0.965000    2.780000   673.500000  \n",
       "75%      1.120000    3.170000   985.000000  \n",
       "max      1.710000    4.000000  1680.000000  "
      ]
     },
     "execution_count": 6,
     "metadata": {},
     "output_type": "execute_result"
    }
   ],
   "source": [
    "df.describe()"
   ]
  },
  {
   "cell_type": "code",
   "execution_count": 7,
   "id": "53295b77",
   "metadata": {
    "scrolled": true
   },
   "outputs": [
    {
     "data": {
      "text/plain": [
       "(178, 14)"
      ]
     },
     "execution_count": 7,
     "metadata": {},
     "output_type": "execute_result"
    }
   ],
   "source": [
    "df.shape"
   ]
  },
  {
   "cell_type": "code",
   "execution_count": 8,
   "id": "4780d022",
   "metadata": {},
   "outputs": [],
   "source": [
    "DF=df.values#numpy array"
   ]
  },
  {
   "cell_type": "code",
   "execution_count": 9,
   "id": "5a5b457c",
   "metadata": {},
   "outputs": [
    {
     "data": {
      "text/plain": [
       "array([0.39542486, 0.17836259, 0.10329102, 0.06627984, 0.06267875,\n",
       "       0.0480556 , 0.03955707, 0.02500244, 0.02103871, 0.01873615,\n",
       "       0.01613203, 0.01205691, 0.00925458, 0.00412945])"
      ]
     },
     "execution_count": 9,
     "metadata": {},
     "output_type": "execute_result"
    }
   ],
   "source": [
    "df_normal = scale(DF)\n",
    "pca = PCA()\n",
    "pca.fit_transform(df_normal)\n",
    "var=pca.explained_variance_ratio_\n",
    "var#The amount of variance that each PCA explains"
   ]
  },
  {
   "cell_type": "code",
   "execution_count": 10,
   "id": "b709c57c",
   "metadata": {},
   "outputs": [
    {
     "data": {
      "text/plain": [
       "array([ 39.54,  57.38,  67.71,  74.34,  80.61,  85.42,  89.38,  91.88,\n",
       "        93.98,  95.85,  97.46,  98.67,  99.6 , 100.01])"
      ]
     },
     "execution_count": 10,
     "metadata": {},
     "output_type": "execute_result"
    }
   ],
   "source": [
    "var1 = np.cumsum(np.round(var,decimals = 4)*100)\n",
    "var1# Cumulative variance "
   ]
  },
  {
   "cell_type": "markdown",
   "id": "4ea39e54",
   "metadata": {},
   "source": [
    "###### first 3 principal component scores account for 67.71% of variance"
   ]
  },
  {
   "cell_type": "code",
   "execution_count": 11,
   "id": "b717de5d",
   "metadata": {
    "scrolled": false
   },
   "outputs": [
    {
     "data": {
      "text/plain": [
       "array([[ 0.39366953, -0.13632501,  0.22267638, -0.00225793,  0.22429849,\n",
       "        -0.12463016, -0.35926404, -0.39071171,  0.2670012 , -0.2790625 ,\n",
       "         0.08931829, -0.27682265, -0.35052618, -0.26951525],\n",
       "       [-0.00569041, -0.48416087, -0.22359095, -0.31585588,  0.01161574,\n",
       "        -0.30055143, -0.06711983,  0.00131345, -0.0269887 , -0.04122256,\n",
       "        -0.52978274,  0.27790735,  0.16277625, -0.36605886],\n",
       "       [ 0.00121795, -0.20740081,  0.08879606,  0.62610236,  0.6119896 ,\n",
       "         0.13098458,  0.14650775,  0.15096275,  0.16997551,  0.14987959,\n",
       "        -0.1372663 ,  0.08532854,  0.16620436, -0.12668685],\n",
       "       [ 0.12246373, -0.08191848,  0.46988824, -0.24984122,  0.07199322,\n",
       "        -0.16321412,  0.19098521,  0.14461667, -0.32801272,  0.46275771,\n",
       "         0.07211248, -0.43466618,  0.15672341, -0.2557949 ],\n",
       "       [ 0.15758395, -0.25089415, -0.18860015, -0.0935236 ,  0.0465675 ,\n",
       "         0.77833048, -0.14466563, -0.11200553, -0.43257916,  0.0915882 ,\n",
       "        -0.0462696 , -0.02986657, -0.14419358, -0.08440794],\n",
       "       [ 0.20033864, -0.13517139, -0.59841948, -0.10799983,  0.08811224,\n",
       "        -0.14483831,  0.14809748,  0.06247252,  0.25868639,  0.46627764,\n",
       "         0.42525454, -0.01565089, -0.21770365, -0.0665655 ],\n",
       "       [-0.05938234, -0.09269887,  0.3743698 , -0.16708856, -0.26872469,\n",
       "         0.32957951, -0.03789829, -0.06773223,  0.61111195,  0.42292282,\n",
       "        -0.18613617,  0.19204101, -0.0785098 ,  0.0542037 ],\n",
       "       [-0.07179553, -0.42154435, -0.08757556,  0.17208034, -0.41324857,\n",
       "         0.14881189,  0.36343884,  0.175405  ,  0.23075135, -0.3437392 ,\n",
       "         0.04069617, -0.48362564,  0.06865116, -0.11146671],\n",
       "       [-0.16236882, -0.45019071, -0.00602569,  0.26249446, -0.11863342,\n",
       "        -0.25253628, -0.40637354, -0.09091933, -0.15912282,  0.26578679,\n",
       "        -0.07526459, -0.21241681, -0.08426484,  0.54490539],\n",
       "       [-0.19899373,  0.31127983, -0.32592413, -0.12452347,  0.15716811,\n",
       "         0.12773363, -0.30772263, -0.14044   ,  0.24054263,  0.10869629,\n",
       "        -0.21704255, -0.50966073,  0.45570504, -0.04620802],\n",
       "       [ 0.01444169, -0.22154641,  0.06839251, -0.49452428,  0.47461722,\n",
       "         0.07119731,  0.29740957, -0.03219187,  0.12200984, -0.23292405,\n",
       "         0.01972448, -0.06140493,  0.06646166,  0.55130818],\n",
       "       [ 0.01575769, -0.26411262,  0.1192121 , -0.04502305, -0.06131271,\n",
       "         0.06116074, -0.30087591, -0.05001396,  0.04266558, -0.09334264,\n",
       "         0.59795428,  0.25774292,  0.61109218, -0.07268036],\n",
       "       [-0.49224318, -0.05610645,  0.06675544, -0.19201787,  0.20007784,\n",
       "         0.05829909, -0.35952714,  0.59834288,  0.06403952, -0.11013538,\n",
       "         0.15917751, -0.04923091, -0.32941979, -0.17322892],\n",
       "       [ 0.66904528,  0.09062605, -0.02522531, -0.00163582, -0.09536107,\n",
       "         0.02230075, -0.25303779,  0.60190917,  0.08223093, -0.05864198,\n",
       "        -0.17882114, -0.02258256,  0.13509216,  0.21604362]])"
      ]
     },
     "execution_count": 11,
     "metadata": {},
     "output_type": "execute_result"
    }
   ],
   "source": [
    "pca.components_"
   ]
  },
  {
   "cell_type": "code",
   "execution_count": 12,
   "id": "88c9ef5d",
   "metadata": {
    "scrolled": true
   },
   "outputs": [
    {
     "data": {
      "text/plain": [
       "[<matplotlib.lines.Line2D at 0x163b13a0ca0>]"
      ]
     },
     "execution_count": 12,
     "metadata": {},
     "output_type": "execute_result"
    },
    {
     "data": {
      "image/png": "[encoded data removed]",
      "text/plain": [
       "<Figure size 432x288 with 1 Axes>"
      ]
     },
     "metadata": {
      "needs_background": "light"
     },
     "output_type": "display_data"
    }
   ],
   "source": [
    "plt.plot(var1,color=\"indigo\")"
   ]
  },
  {
   "cell_type": "code",
   "execution_count": 13,
   "id": "a8a6dd60",
   "metadata": {
    "scrolled": true
   },
   "outputs": [
    {
     "data": {
      "image/png": "[encoded data removed]",
      "text/plain": [
       "<Figure size 432x288 with 1 Axes>"
      ]
     },
     "metadata": {
      "needs_background": "light"
     },
     "output_type": "display_data"
    }
   ],
   "source": [
    "#Scree Plot\n",
    "PC_values = np.arange(pca.n_components_) + 1\n",
    "plt.plot(PC_values, pca.explained_variance_ratio_, 'o-', linewidth=2, color='indigo')\n",
    "plt.title('Scree Plot')\n",
    "plt.xlabel('Principal Component')\n",
    "plt.ylabel('Variance Explained')\n",
    "plt.show()"
   ]
  },
  {
   "cell_type": "markdown",
   "id": "2c48bc27",
   "metadata": {},
   "source": [
    "###### first 3 principal component scores"
   ]
  },
  {
   "cell_type": "code",
   "execution_count": 18,
   "id": "da67358c",
   "metadata": {},
   "outputs": [],
   "source": [
    "finaldf = pd.concat([pd.DataFrame(pca.fit_transform(df_normal)[:,0:3],columns=['pc1','pc2','pc3'])], axis = 1)"
   ]
  },
  {
   "cell_type": "code",
   "execution_count": 19,
   "id": "ef998fad",
   "metadata": {
    "scrolled": true
   },
   "outputs": [
    {
     "data": {
      "text/html": [
       "<div>\n",
       "<style scoped>\n",
       "    .dataframe tbody tr th:only-of-type {\n",
       "        vertical-align: middle;\n",
       "    }\n",
       "\n",
       "    .dataframe tbody tr th {\n",
       "        vertical-align: top;\n",
       "    }\n",
       "\n",
       "    .dataframe thead th {\n",
       "        text-align: right;\n",
       "    }\n",
       "</style>\n",
       "<table border=\"1\" class=\"dataframe\">\n",
       "  <thead>\n",
       "    <tr style=\"text-align: right;\">\n",
       "      <th></th>\n",
       "      <th>pc1</th>\n",
       "      <th>pc2</th>\n",
       "      <th>pc3</th>\n",
       "    </tr>\n",
       "  </thead>\n",
       "  <tbody>\n",
       "    <tr>\n",
       "      <th>0</th>\n",
       "      <td>-3.522934</td>\n",
       "      <td>-1.453098</td>\n",
       "      <td>-0.164795</td>\n",
       "    </tr>\n",
       "    <tr>\n",
       "      <th>1</th>\n",
       "      <td>-2.528858</td>\n",
       "      <td>0.330019</td>\n",
       "      <td>-2.026707</td>\n",
       "    </tr>\n",
       "    <tr>\n",
       "      <th>2</th>\n",
       "      <td>-2.785029</td>\n",
       "      <td>-1.036936</td>\n",
       "      <td>0.983238</td>\n",
       "    </tr>\n",
       "    <tr>\n",
       "      <th>3</th>\n",
       "      <td>-3.922588</td>\n",
       "      <td>-2.768210</td>\n",
       "      <td>-0.174968</td>\n",
       "    </tr>\n",
       "    <tr>\n",
       "      <th>4</th>\n",
       "      <td>-1.407511</td>\n",
       "      <td>-0.867773</td>\n",
       "      <td>2.025829</td>\n",
       "    </tr>\n",
       "  </tbody>\n",
       "</table>\n",
       "</div>"
      ],
      "text/plain": [
       "        pc1       pc2       pc3\n",
       "0 -3.522934 -1.453098 -0.164795\n",
       "1 -2.528858  0.330019 -2.026707\n",
       "2 -2.785029 -1.036936  0.983238\n",
       "3 -3.922588 -2.768210 -0.174968\n",
       "4 -1.407511 -0.867773  2.025829"
      ]
     },
     "execution_count": 19,
     "metadata": {},
     "output_type": "execute_result"
    }
   ],
   "source": [
    "finaldf.head()"
   ]
  },
  {
   "cell_type": "markdown",
   "id": "f26ca952",
   "metadata": {},
   "source": [
    "## Hierarchical Clustering"
   ]
  },
  {
   "cell_type": "markdown",
   "id": "35cf603f",
   "metadata": {},
   "source": [
    "#### Original Data - DataFrame name \"df\""
   ]
  },
  {
   "cell_type": "code",
   "execution_count": 20,
   "id": "7cd73a01",
   "metadata": {},
   "outputs": [],
   "source": [
    "# Normalization function \n",
    "def minmax_func(i):\n",
    "    x = (i-i.min())/(i.max()-i.min())\n",
    "    return (x)"
   ]
  },
  {
   "cell_type": "code",
   "execution_count": 21,
   "id": "ff2b123d",
   "metadata": {},
   "outputs": [],
   "source": [
    "# Normalized data frame (considering the numerical part of data)\n",
    "df_norm = minmax_func(df.iloc[:,1:])"
   ]
  },
  {
   "cell_type": "code",
   "execution_count": 31,
   "id": "89b33cc1",
   "metadata": {
    "scrolled": true
   },
   "outputs": [
    {
     "data": {
      "image/png": "[encoded data removed]",
      "text/plain": [
       "<Figure size 432x288 with 1 Axes>"
      ]
     },
     "metadata": {
      "needs_background": "light"
     },
     "output_type": "display_data"
    }
   ],
   "source": [
    "dendrogram = sch.dendrogram(sch.linkage(df_norm, method='ward'))"
   ]
  },
  {
   "cell_type": "markdown",
   "id": "66a1474f",
   "metadata": {},
   "source": [
    "###### From the above dendrogram, 4 clusters seem optimal as the cut-off distance is around 2.4"
   ]
  },
  {
   "cell_type": "code",
   "execution_count": 30,
   "id": "28e0eb4d",
   "metadata": {
    "scrolled": true
   },
   "outputs": [
    {
     "data": {
      "image/png": "[encoded data removed]",
      "text/plain": [
       "<Figure size 432x288 with 1 Axes>"
      ]
     },
     "metadata": {
      "needs_background": "light"
     },
     "output_type": "display_data"
    }
   ],
   "source": [
    "# create dendrogram\n",
    "fig, ax = plt.subplots()\n",
    "dendrogram = sch.dendrogram(sch.linkage(df_norm, method='ward'))\n",
    "threshold = 2.4 #for hline\n",
    "ax.axhline(y=threshold, c='k')\n",
    "plt.show()"
   ]
  },
  {
   "cell_type": "markdown",
   "id": "79436f40",
   "metadata": {},
   "source": [
    "#### Create Clusters"
   ]
  },
  {
   "cell_type": "code",
   "execution_count": 32,
   "id": "ed768da1",
   "metadata": {},
   "outputs": [],
   "source": [
    "hc = AgglomerativeClustering(n_clusters=4, affinity='euclidean', linkage='ward', compute_full_tree=True, distance_threshold=None)"
   ]
  },
  {
   "cell_type": "code",
   "execution_count": 33,
   "id": "aac09148",
   "metadata": {},
   "outputs": [],
   "source": [
    "# save clusters for chart\n",
    "y_hc = hc.fit_predict(df_norm)\n",
    "Clusters=pd.DataFrame(y_hc,columns=['Clusters'])"
   ]
  },
  {
   "cell_type": "code",
   "execution_count": 34,
   "id": "42cf3cda",
   "metadata": {
    "scrolled": false
   },
   "outputs": [
    {
     "data": {
      "text/plain": [
       "Clusters\n",
       "2           57\n",
       "0           50\n",
       "1           46\n",
       "3           25\n",
       "dtype: int64"
      ]
     },
     "execution_count": 34,
     "metadata": {},
     "output_type": "execute_result"
    }
   ],
   "source": [
    "Clusters.value_counts()"
   ]
  },
  {
   "cell_type": "markdown",
   "id": "96db0db5",
   "metadata": {},
   "source": [
    "#### PCA Data - DataFrame name \"finaldf\""
   ]
  },
  {
   "cell_type": "code",
   "execution_count": 35,
   "id": "17dd0a93",
   "metadata": {},
   "outputs": [],
   "source": [
    "# Normalized data frame (considering the numerical part of data)\n",
    "df_norm = minmax_func(finaldf.iloc[:,1:])"
   ]
  },
  {
   "cell_type": "code",
   "execution_count": 37,
   "id": "641fd82b",
   "metadata": {},
   "outputs": [
    {
     "data": {
      "image/png": "[encoded data removed]",
      "text/plain": [
       "<Figure size 432x288 with 1 Axes>"
      ]
     },
     "metadata": {
      "needs_background": "light"
     },
     "output_type": "display_data"
    }
   ],
   "source": [
    "dendrogram = sch.dendrogram(sch.linkage(df_norm, method='ward'))"
   ]
  },
  {
   "cell_type": "markdown",
   "id": "c23b5e96",
   "metadata": {},
   "source": [
    "###### From the above dendrogram, 4 clusters seem optimal as the cut-off distance is around 1.055"
   ]
  },
  {
   "cell_type": "code",
   "execution_count": 40,
   "id": "da002693",
   "metadata": {
    "scrolled": true
   },
   "outputs": [
    {
     "data": {
      "image/png": "[encoded data removed]",
      "text/plain": [
       "<Figure size 432x288 with 1 Axes>"
      ]
     },
     "metadata": {
      "needs_background": "light"
     },
     "output_type": "display_data"
    }
   ],
   "source": [
    "# create dendrogram\n",
    "fig, ax = plt.subplots()\n",
    "dendrogram = sch.dendrogram(sch.linkage(df_norm, method='ward'))\n",
    "threshold = 1.055 #for hline\n",
    "ax.axhline(y=threshold, c='k')\n",
    "plt.show()"
   ]
  },
  {
   "cell_type": "markdown",
   "id": "c992c279",
   "metadata": {},
   "source": [
    "#### Create Clusters"
   ]
  },
  {
   "cell_type": "code",
   "execution_count": 41,
   "id": "20286ccd",
   "metadata": {},
   "outputs": [],
   "source": [
    "#distance_threshold=1.055\n",
    "hc = AgglomerativeClustering(n_clusters=None, affinity='euclidean', linkage='ward', compute_full_tree=True, distance_threshold=1.055)"
   ]
  },
  {
   "cell_type": "code",
   "execution_count": 42,
   "id": "3fa770cc",
   "metadata": {},
   "outputs": [],
   "source": [
    "# save clusters for chart\n",
    "y_hc = hc.fit_predict(df_norm)\n",
    "Clusters=pd.DataFrame(y_hc,columns=['Clusters'])"
   ]
  },
  {
   "cell_type": "code",
   "execution_count": 43,
   "id": "7f39648a",
   "metadata": {
    "scrolled": true
   },
   "outputs": [
    {
     "data": {
      "text/plain": [
       "Clusters\n",
       "0           59\n",
       "1           56\n",
       "2           35\n",
       "4           23\n",
       "3            5\n",
       "dtype: int64"
      ]
     },
     "execution_count": 43,
     "metadata": {},
     "output_type": "execute_result"
    }
   ],
   "source": [
    "Clusters.value_counts()"
   ]
  },
  {
   "cell_type": "markdown",
   "id": "1916bb01",
   "metadata": {},
   "source": [
    "###### Thus, 4 clusters for original data and 5 clusters for PCA"
   ]
  },
  {
   "cell_type": "markdown",
   "id": "c5c43af9",
   "metadata": {},
   "source": [
    "## KMeans"
   ]
  },
  {
   "cell_type": "code",
   "execution_count": 44,
   "id": "8356a5e8",
   "metadata": {},
   "outputs": [],
   "source": [
    "def norm_func(i):\n",
    "    x = (i-i.mean())/(i.std())\n",
    "    return (x)"
   ]
  },
  {
   "cell_type": "code",
   "execution_count": 45,
   "id": "062d7d55",
   "metadata": {},
   "outputs": [],
   "source": [
    "# Normalization function \n",
    "from sklearn.preprocessing import StandardScaler\n",
    "scaler = StandardScaler()"
   ]
  },
  {
   "cell_type": "markdown",
   "id": "a1ca7bfc",
   "metadata": {},
   "source": [
    "#### Original Data - DataFrame name \"df\""
   ]
  },
  {
   "cell_type": "code",
   "execution_count": 46,
   "id": "ec0e91fe",
   "metadata": {},
   "outputs": [
    {
     "name": "stderr",
     "output_type": "stream",
     "text": [
      "C:\\Users\\shred\\anaconda3\\lib\\site-packages\\sklearn\\cluster\\_kmeans.py:881: UserWarning: KMeans is known to have a memory leak on Windows with MKL, when there are less chunks than available threads. You can avoid it by setting the environment variable OMP_NUM_THREADS=1.\n",
      "  warnings.warn(\n"
     ]
    },
    {
     "data": {
      "image/png": "[encoded data removed]",
      "text/plain": [
       "<Figure size 432x288 with 1 Axes>"
      ]
     },
     "metadata": {
      "needs_background": "light"
     },
     "output_type": "display_data"
    }
   ],
   "source": [
    "scaled_df = scaler.fit_transform(df)\n",
    "wcss = []\n",
    "for i in range(1, 11):\n",
    "    kmeans = KMeans(n_clusters=i,random_state=0)\n",
    "    kmeans.fit(scaled_df)\n",
    "    wcss.append(kmeans.inertia_)\n",
    "    \n",
    "plt.plot(range(1, 11), wcss)\n",
    "plt.title('Elbow Method')\n",
    "plt.xlabel('Number of clusters')\n",
    "plt.ylabel('WCSS')\n",
    "plt.show()"
   ]
  },
  {
   "cell_type": "code",
   "execution_count": 47,
   "id": "0f41068e",
   "metadata": {},
   "outputs": [
    {
     "data": {
      "text/plain": [
       "KMeans(n_clusters=3, random_state=0)"
      ]
     },
     "execution_count": 47,
     "metadata": {},
     "output_type": "execute_result"
    }
   ],
   "source": [
    "#Build Cluster algorithm. Number of clusters=3 from the above graph\n",
    "from sklearn.cluster import KMeans\n",
    "clusters_new = KMeans(3, random_state=0)\n",
    "clusters_new.fit(scaled_df)"
   ]
  },
  {
   "cell_type": "markdown",
   "id": "3f40056f",
   "metadata": {},
   "source": [
    "#### PCA Data - DataFrame name \"finaldf\""
   ]
  },
  {
   "cell_type": "code",
   "execution_count": 48,
   "id": "09ee938f",
   "metadata": {},
   "outputs": [
    {
     "name": "stderr",
     "output_type": "stream",
     "text": [
      "C:\\Users\\shred\\anaconda3\\lib\\site-packages\\sklearn\\cluster\\_kmeans.py:881: UserWarning: KMeans is known to have a memory leak on Windows with MKL, when there are less chunks than available threads. You can avoid it by setting the environment variable OMP_NUM_THREADS=1.\n",
      "  warnings.warn(\n"
     ]
    },
    {
     "data": {
      "image/png": "[encoded data removed]",
      "text/plain": [
       "<Figure size 432x288 with 1 Axes>"
      ]
     },
     "metadata": {
      "needs_background": "light"
     },
     "output_type": "display_data"
    }
   ],
   "source": [
    "scaled_df = scaler.fit_transform(finaldf)\n",
    "wcss = []\n",
    "for i in range(1, 11):\n",
    "    kmeans = KMeans(n_clusters=i,random_state=0)\n",
    "    kmeans.fit(scaled_df)\n",
    "    wcss.append(kmeans.inertia_)\n",
    "    \n",
    "plt.plot(range(1, 11), wcss)\n",
    "plt.title('Elbow Method')\n",
    "plt.xlabel('Number of clusters')\n",
    "plt.ylabel('WCSS')\n",
    "plt.show()"
   ]
  },
  {
   "cell_type": "code",
   "execution_count": 49,
   "id": "d4546634",
   "metadata": {},
   "outputs": [
    {
     "data": {
      "text/plain": [
       "KMeans(n_clusters=4, random_state=0)"
      ]
     },
     "execution_count": 49,
     "metadata": {},
     "output_type": "execute_result"
    }
   ],
   "source": [
    "#Build Cluster algorithm. Number of clusters=4 from the above graph\n",
    "from sklearn.cluster import KMeans\n",
    "clusters_new = KMeans(4, random_state=0)\n",
    "clusters_new.fit(scaled_df)"
   ]
  },
  {
   "cell_type": "markdown",
   "id": "161633d2",
   "metadata": {},
   "source": [
    "###### Thus, 3 clusters for original data but 4 clusters for PCA data."
   ]
  }
 ],
 "metadata": {
  "kernelspec": {
   "display_name": "Python 3 (ipykernel)",
   "language": "python",
   "name": "python3"
  },
  "language_info": {
   "codemirror_mode": {
    "name": "ipython",
    "version": 3
   },
   "file_extension": ".py",
   "mimetype": "text/x-python",
   "name": "python",
   "nbconvert_exporter": "python",
   "pygments_lexer": "ipython3",
   "version": "3.9.7"
  }
 },
 "nbformat": 4,
 "nbformat_minor": 5
}
