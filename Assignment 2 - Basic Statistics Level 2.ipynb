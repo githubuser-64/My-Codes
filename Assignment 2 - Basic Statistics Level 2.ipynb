{
 "cells": [
  {
   "cell_type": "markdown",
   "id": "c0a3754b",
   "metadata": {},
   "source": [
    " a = [24.23%,25.53%,25.41%,24.14%,29.62%,28.25%,25.81%,24.39%,40.26%,32.95%,91.36%,25.99%,39.42%,26.71%,35.00%]\n"
   ]
  },
  {
   "cell_type": "code",
   "execution_count": 14,
   "id": "9fb1e4f6",
   "metadata": {},
   "outputs": [],
   "source": [
    "import pandas as pd"
   ]
  },
  {
   "cell_type": "code",
   "execution_count": 92,
   "id": "79509e62",
   "metadata": {},
   "outputs": [
    {
     "name": "stdout",
     "output_type": "stream",
     "text": [
      "[24.23, 25.53, 25.41, 24.14, 29.62, 28.25, 25.81, 24.39, 40.26, 32.95, 91.36, 25.99, 39.42, 26.71, 35.0]\n"
     ]
    }
   ],
   "source": [
    "a = [24.23,25.53,25.41,24.14,29.62,28.25,25.81,24.39,40.26,32.95,91.36,25.99,39.42,26.71,35.00]\n",
    "print(a)"
   ]
  },
  {
   "cell_type": "code",
   "execution_count": 34,
   "id": "de55ce1e",
   "metadata": {},
   "outputs": [
    {
     "data": {
      "text/html": [
       "<div>\n",
       "<style scoped>\n",
       "    .dataframe tbody tr th:only-of-type {\n",
       "        vertical-align: middle;\n",
       "    }\n",
       "\n",
       "    .dataframe tbody tr th {\n",
       "        vertical-align: top;\n",
       "    }\n",
       "\n",
       "    .dataframe thead th {\n",
       "        text-align: right;\n",
       "    }\n",
       "</style>\n",
       "<table border=\"1\" class=\"dataframe\">\n",
       "  <thead>\n",
       "    <tr style=\"text-align: right;\">\n",
       "      <th></th>\n",
       "      <th>0</th>\n",
       "    </tr>\n",
       "  </thead>\n",
       "  <tbody>\n",
       "    <tr>\n",
       "      <th>count</th>\n",
       "      <td>15.000000</td>\n",
       "    </tr>\n",
       "    <tr>\n",
       "      <th>mean</th>\n",
       "      <td>33.271333</td>\n",
       "    </tr>\n",
       "    <tr>\n",
       "      <th>std</th>\n",
       "      <td>16.945401</td>\n",
       "    </tr>\n",
       "    <tr>\n",
       "      <th>min</th>\n",
       "      <td>24.140000</td>\n",
       "    </tr>\n",
       "    <tr>\n",
       "      <th>25%</th>\n",
       "      <td>25.470000</td>\n",
       "    </tr>\n",
       "    <tr>\n",
       "      <th>50%</th>\n",
       "      <td>26.710000</td>\n",
       "    </tr>\n",
       "    <tr>\n",
       "      <th>75%</th>\n",
       "      <td>33.975000</td>\n",
       "    </tr>\n",
       "    <tr>\n",
       "      <th>max</th>\n",
       "      <td>91.360000</td>\n",
       "    </tr>\n",
       "  </tbody>\n",
       "</table>\n",
       "</div>"
      ],
      "text/plain": [
       "               0\n",
       "count  15.000000\n",
       "mean   33.271333\n",
       "std    16.945401\n",
       "min    24.140000\n",
       "25%    25.470000\n",
       "50%    26.710000\n",
       "75%    33.975000\n",
       "max    91.360000"
      ]
     },
     "execution_count": 34,
     "metadata": {},
     "output_type": "execute_result"
    }
   ],
   "source": [
    "b"
   ]
  },
  {
   "cell_type": "code",
   "execution_count": 80,
   "id": "cf7ca2d4",
   "metadata": {
    "scrolled": false
   },
   "outputs": [
    {
     "data": {
      "text/html": [
       "<div>\n",
       "<style scoped>\n",
       "    .dataframe tbody tr th:only-of-type {\n",
       "        vertical-align: middle;\n",
       "    }\n",
       "\n",
       "    .dataframe tbody tr th {\n",
       "        vertical-align: top;\n",
       "    }\n",
       "\n",
       "    .dataframe thead th {\n",
       "        text-align: right;\n",
       "    }\n",
       "</style>\n",
       "<table border=\"1\" class=\"dataframe\">\n",
       "  <thead>\n",
       "    <tr style=\"text-align: right;\">\n",
       "      <th></th>\n",
       "      <th>0</th>\n",
       "    </tr>\n",
       "  </thead>\n",
       "  <tbody>\n",
       "    <tr>\n",
       "      <th>count</th>\n",
       "      <td>15.000</td>\n",
       "    </tr>\n",
       "    <tr>\n",
       "      <th>mean</th>\n",
       "      <td>33.271</td>\n",
       "    </tr>\n",
       "    <tr>\n",
       "      <th>std</th>\n",
       "      <td>16.945</td>\n",
       "    </tr>\n",
       "    <tr>\n",
       "      <th>min</th>\n",
       "      <td>24.140</td>\n",
       "    </tr>\n",
       "    <tr>\n",
       "      <th>25%</th>\n",
       "      <td>25.470</td>\n",
       "    </tr>\n",
       "    <tr>\n",
       "      <th>50%</th>\n",
       "      <td>26.710</td>\n",
       "    </tr>\n",
       "    <tr>\n",
       "      <th>75%</th>\n",
       "      <td>33.975</td>\n",
       "    </tr>\n",
       "    <tr>\n",
       "      <th>max</th>\n",
       "      <td>91.360</td>\n",
       "    </tr>\n",
       "  </tbody>\n",
       "</table>\n",
       "</div>"
      ],
      "text/plain": [
       "            0\n",
       "count  15.000\n",
       "mean   33.271\n",
       "std    16.945\n",
       "min    24.140\n",
       "25%    25.470\n",
       "50%    26.710\n",
       "75%    33.975\n",
       "max    91.360"
      ]
     },
     "execution_count": 80,
     "metadata": {},
     "output_type": "execute_result"
    }
   ],
   "source": [
    "a = pd.DataFrame(a)\n",
    "b = a.describe()\n",
    "\n",
    "for i in range(0,8):\n",
    "    b.iloc[i,0] = round(b.iloc[i,0],3)\n",
    "    \n",
    "b"
   ]
  },
  {
   "cell_type": "code",
   "execution_count": 83,
   "id": "641832e2",
   "metadata": {},
   "outputs": [
    {
     "data": {
      "text/plain": [
       "287.133"
      ]
     },
     "execution_count": 83,
     "metadata": {},
     "output_type": "execute_result"
    }
   ],
   "source": [
    "round(b.iloc[2,0]**2,3)"
   ]
  },
  {
   "cell_type": "code",
   "execution_count": 20,
   "id": "78f4a84d",
   "metadata": {},
   "outputs": [
    {
     "data": {
      "text/plain": [
       "<AxesSubplot:>"
      ]
     },
     "execution_count": 20,
     "metadata": {},
     "output_type": "execute_result"
    },
    {
     "data": {
      "image/png": "[encoded data removed]",
      "text/plain": [
       "<Figure size 432x288 with 1 Axes>"
      ]
     },
     "metadata": {
      "needs_background": "light"
     },
     "output_type": "display_data"
    }
   ],
   "source": [
    "a.boxplot()"
   ]
  },
  {
   "cell_type": "code",
   "execution_count": 193,
   "id": "e23f7e75",
   "metadata": {},
   "outputs": [
    {
     "name": "stdout",
     "output_type": "stream",
     "text": [
      "[24.23, 25.53, 25.41, 24.14, 29.62, 28.25, 25.81, 24.39, 40.26, 32.95, 91.36, 25.99, 39.42, 26.71, 35.0]\n"
     ]
    }
   ],
   "source": [
    "a = [24.23,25.53,25.41,24.14,29.62,28.25,25.81,24.39,40.26,32.95,91.36,25.99,39.42,26.71,35.00]\n",
    "print(a)"
   ]
  },
  {
   "cell_type": "code",
   "execution_count": 194,
   "id": "5e5358fa",
   "metadata": {},
   "outputs": [],
   "source": [
    "b = [24.23,25.53,25.41,24.14,29.62,28.25,25.81,24.39,40.26,32.95,91.36,25.99,39.42,26.71,35.00]\n",
    "b[10] = 24.136"
   ]
  },
  {
   "cell_type": "code",
   "execution_count": 195,
   "id": "32c4addb",
   "metadata": {},
   "outputs": [
    {
     "data": {
      "text/plain": [
       "array([[<AxesSubplot:title={'center':'Old'}>,\n",
       "        <AxesSubplot:title={'center':'new'}>]], dtype=object)"
      ]
     },
     "execution_count": 195,
     "metadata": {},
     "output_type": "execute_result"
    },
    {
     "data": {
      "image/png": "[encoded data removed]",
      "text/plain": [
       "<Figure size 432x288 with 2 Axes>"
      ]
     },
     "metadata": {
      "needs_background": "light"
     },
     "output_type": "display_data"
    }
   ],
   "source": [
    "b1[\"Old\"] = pd.Series(a)\n",
    "b1[\"new\"] = pd.Series(b)\n",
    "b1.hist()"
   ]
  },
  {
   "cell_type": "code",
   "execution_count": 146,
   "id": "2ec85c27",
   "metadata": {},
   "outputs": [],
   "source": [
    "import matplotlib.pyplot as pt"
   ]
  },
  {
   "cell_type": "code",
   "execution_count": 173,
   "id": "22fce7cd",
   "metadata": {},
   "outputs": [],
   "source": [
    "def SR(i,n,p):#Success Rate\n",
    "    x = scipy.stats.binom.pmf(i, n, p)\n",
    "    return(x)"
   ]
  },
  {
   "cell_type": "code",
   "execution_count": 179,
   "id": "8edd574f",
   "metadata": {},
   "outputs": [
    {
     "data": {
      "text/plain": [
       "0.025"
      ]
     },
     "execution_count": 179,
     "metadata": {},
     "output_type": "execute_result"
    }
   ],
   "source": [
    "f = 0; n=5; p=0.005\n",
    "for j in range(1,6):\n",
    "    f = f + SR(j,n,p)\n",
    "round(f,3)"
   ]
  },
  {
   "cell_type": "code",
   "execution_count": 174,
   "id": "b7016861",
   "metadata": {
    "scrolled": true
   },
   "outputs": [
    {
     "data": {
      "text/plain": [
       "0.975248753121875"
      ]
     },
     "execution_count": 174,
     "metadata": {},
     "output_type": "execute_result"
    }
   ],
   "source": [
    "SR(0,5,0.005)"
   ]
  },
  {
   "cell_type": "code",
   "execution_count": 197,
   "id": "49ed1964",
   "metadata": {},
   "outputs": [],
   "source": [
    "import scipy.stats as st"
   ]
  },
  {
   "cell_type": "code",
   "execution_count": 198,
   "id": "a1ce363c",
   "metadata": {},
   "outputs": [
    {
     "data": {
      "text/plain": [
       "0.266"
      ]
     },
     "execution_count": 198,
     "metadata": {},
     "output_type": "execute_result"
    }
   ],
   "source": [
    "y = 1 - round(st.norm.cdf(50, loc = 45, scale = 8),3)\n",
    "y"
   ]
  },
  {
   "cell_type": "code",
   "execution_count": 204,
   "id": "cb2367c4",
   "metadata": {},
   "outputs": [
    {
     "data": {
      "text/plain": [
       "-0.18199999999999994"
      ]
     },
     "execution_count": 204,
     "metadata": {},
     "output_type": "execute_result"
    }
   ],
   "source": [
    "a = round(st.norm.cdf(44, loc = 38, scale = 6),3)\n",
    "b = round(st.norm.cdf(38, loc = 38, scale = 6),3)\n",
    "1 - a #Fraction of people greater than 44\n",
    "a - b #Fraction of people between 38 and 44\n",
    "y = 1 - a - (a - b)\n",
    "y"
   ]
  },
  {
   "cell_type": "code",
   "execution_count": 207,
   "id": "e9ba28c1",
   "metadata": {},
   "outputs": [
    {
     "data": {
      "text/plain": [
       "0.091"
      ]
     },
     "execution_count": 207,
     "metadata": {},
     "output_type": "execute_result"
    }
   ],
   "source": [
    "c = round(st.norm.cdf(30, loc = 38, scale = 6),3)\n",
    "c"
   ]
  },
  {
   "cell_type": "code",
   "execution_count": 212,
   "id": "3cc98dd4",
   "metadata": {},
   "outputs": [
    {
     "data": {
      "text/plain": [
       "[48.48, 151.52]"
      ]
     },
     "execution_count": 212,
     "metadata": {},
     "output_type": "execute_result"
    }
   ],
   "source": [
    "a = []\n",
    "y = st.norm.interval(0.99, loc = 100, scale = 20)\n",
    "for j in y:\n",
    "    a.append(round(j,2))\n",
    "a"
   ]
  },
  {
   "cell_type": "code",
   "execution_count": 5,
   "id": "645ee0e4",
   "metadata": {},
   "outputs": [],
   "source": [
    "def Interval(i,j,k):\n",
    "    a = []\n",
    "    y = st.norm.interval(i, loc = j, scale = k)\n",
    "    for f in y:\n",
    "        a.append(round(f,2))\n",
    "    return(a)"
   ]
  },
  {
   "cell_type": "code",
   "execution_count": 30,
   "id": "68f286d8",
   "metadata": {},
   "outputs": [
    {
     "data": {
      "text/plain": [
       "[-0.93, 12.93]"
      ]
     },
     "execution_count": 30,
     "metadata": {},
     "output_type": "execute_result"
    }
   ],
   "source": [
    "Interval(0.95,6,math.sqrt(12.5))"
   ]
  },
  {
   "cell_type": "code",
   "execution_count": 228,
   "id": "e34a7ab7",
   "metadata": {},
   "outputs": [
    {
     "data": {
      "text/plain": [
       "[-41.85, 581.85]"
      ]
     },
     "execution_count": 228,
     "metadata": {},
     "output_type": "execute_result"
    }
   ],
   "source": [
    "[-0.93*45, 12.93*45]"
   ]
  },
  {
   "cell_type": "code",
   "execution_count": 7,
   "id": "590a82e4",
   "metadata": {},
   "outputs": [
    {
     "data": {
      "text/plain": [
       "1.961"
      ]
     },
     "execution_count": 7,
     "metadata": {},
     "output_type": "execute_result"
    }
   ],
   "source": [
    "import scipy.stats as st\n",
    "round(st.t.ppf(q=1-.025,df=1999),3)"
   ]
  },
  {
   "cell_type": "code",
   "execution_count": 7,
   "id": "e32bdc12",
   "metadata": {},
   "outputs": [],
   "source": [
    "import math"
   ]
  },
  {
   "cell_type": "code",
   "execution_count": 9,
   "id": "380c62d1",
   "metadata": {},
   "outputs": [
    {
     "data": {
      "text/plain": [
       "[0.037, 0.055]"
      ]
     },
     "execution_count": 9,
     "metadata": {},
     "output_type": "execute_result"
    }
   ],
   "source": [
    "p = 0.046\n",
    "a = [round(p - 1.96*math.sqrt(p*(1-p)/2000),3),round(p + 1.96*math.sqrt(p*(1-p)/2000),3)]\n",
    "a"
   ]
  },
  {
   "cell_type": "code",
   "execution_count": 24,
   "id": "7be7e7da",
   "metadata": {},
   "outputs": [],
   "source": [
    "p = 0.046\n",
    "b = 0.046*(1.0-0.046)"
   ]
  },
  {
   "cell_type": "code",
   "execution_count": 29,
   "id": "aab1003d",
   "metadata": {
    "scrolled": true
   },
   "outputs": [],
   "source": [
    "s = math.sqrt(p*(1-p))"
   ]
  },
  {
   "cell_type": "code",
   "execution_count": 28,
   "id": "a50dc829",
   "metadata": {
    "scrolled": false
   },
   "outputs": [
    {
     "data": {
      "text/plain": [
       "49.2"
      ]
     },
     "execution_count": 28,
     "metadata": {},
     "output_type": "execute_result"
    }
   ],
   "source": [
    "p = 0.046 #Proportion of Mozilla Firefox users in the sample\n",
    "a = round(st.norm.cdf(0.05, loc = 0.046, scale = math.sqrt(p*(1-p))),3)\n",
    "(1 - a)*100 #Probability that the share is greater than 5%"
   ]
  },
  {
   "cell_type": "code",
   "execution_count": 40,
   "id": "aaa47ce4",
   "metadata": {},
   "outputs": [
    {
     "data": {
      "text/plain": [
       "600.25"
      ]
     },
     "execution_count": 40,
     "metadata": {},
     "output_type": "execute_result"
    }
   ],
   "source": [
    "z = 1.96 #95% Confidence Interval\n",
    "p = 0.5 # value of p for maximum standard deviation (p*(1-p))^0.5; widest confidence interval.\n",
    "#p is the proportion of businesses that plan to hire employees.\n",
    "m = 0.04 #Margin of Error.\n",
    "n = (z*math.sqrt(p*(1-p))/m)**2\n",
    "n"
   ]
  },
  {
   "cell_type": "code",
   "execution_count": 52,
   "id": "212b4965",
   "metadata": {},
   "outputs": [
    {
     "data": {
      "text/plain": [
       "846.81"
      ]
     },
     "execution_count": 52,
     "metadata": {},
     "output_type": "execute_result"
    }
   ],
   "source": [
    "z = round(st.t.ppf(q=1-.01,df=2000),3)#98% Confidence Interval\n",
    "#t-distribution for n>1000 is z-distribution.\n",
    "p = 0.5 # value of p for maximum standard deviation (p*(1-p))^0.5; widest confidence interval.\n",
    "#p is the proportion of businesses that plan to hire employees.\n",
    "m = 0.04 #Margin of Error.\n",
    "n = round((z*math.sqrt(p*(1-p))/m)**2,3)\n",
    "n"
   ]
  },
  {
   "cell_type": "code",
   "execution_count": 10,
   "id": "1c2b297e",
   "metadata": {},
   "outputs": [
    {
     "data": {
      "text/plain": [
       "0.9"
      ]
     },
     "execution_count": 10,
     "metadata": {},
     "output_type": "execute_result"
    }
   ],
   "source": [
    "a=round(st.norm.cdf(45, loc = 50, scale = 40),3)#Probability that sample mean is less than 45.\n",
    "b=round(st.norm.cdf(55, loc = 50, scale = 40),3)#Probability that sample mean is less than 55.\n",
    "c=1-b+a#Probability that sample mean is not between 45 and 55.\n",
    "round(c,3)"
   ]
  },
  {
   "cell_type": "code",
   "execution_count": 17,
   "id": "244752d8",
   "metadata": {},
   "outputs": [
    {
     "name": "stdout",
     "output_type": "stream",
     "text": [
      "[42.16, 57.84]\n"
     ]
    }
   ],
   "source": [
    "print([50-1.96*4,50+1.96*4])"
   ]
  },
  {
   "cell_type": "code",
   "execution_count": 18,
   "id": "199f29bf",
   "metadata": {},
   "outputs": [
    {
     "data": {
      "text/plain": [
       "0.030790826956728048"
      ]
     },
     "execution_count": 18,
     "metadata": {},
     "output_type": "execute_result"
    }
   ],
   "source": [
    "import math\n",
    "0.98/math.sqrt(1013)"
   ]
  },
  {
   "cell_type": "code",
   "execution_count": 24,
   "id": "c96bfe6e",
   "metadata": {},
   "outputs": [],
   "source": [
    "n = (1.96*40/5)**2"
   ]
  },
  {
   "cell_type": "code",
   "execution_count": 25,
   "id": "c09a9155",
   "metadata": {},
   "outputs": [
    {
     "data": {
      "text/plain": [
       "245.86240000000004"
      ]
     },
     "execution_count": 25,
     "metadata": {},
     "output_type": "execute_result"
    }
   ],
   "source": [
    "n"
   ]
  },
  {
   "cell_type": "code",
   "execution_count": 23,
   "id": "e0b76dab",
   "metadata": {},
   "outputs": [
    {
     "data": {
      "text/plain": [
       "7.840000000000001"
      ]
     },
     "execution_count": 23,
     "metadata": {},
     "output_type": "execute_result"
    }
   ],
   "source": [
    "1.96*40/10"
   ]
  }
 ],
 "metadata": {
  "kernelspec": {
   "display_name": "Python 3 (ipykernel)",
   "language": "python",
   "name": "python3"
  },
  "language_info": {
   "codemirror_mode": {
    "name": "ipython",
    "version": 3
   },
   "file_extension": ".py",
   "mimetype": "text/x-python",
   "name": "python",
   "nbconvert_exporter": "python",
   "pygments_lexer": "ipython3",
   "version": "3.9.7"
  }
 },
 "nbformat": 4,
 "nbformat_minor": 5
}
